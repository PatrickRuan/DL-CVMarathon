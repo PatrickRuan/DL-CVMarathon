{
  "nbformat": 4,
  "nbformat_minor": 0,
  "metadata": {
    "kernelspec": {
      "display_name": "Python 3",
      "language": "python",
      "name": "python3"
    },
    "language_info": {
      "codemirror_mode": {
        "name": "ipython",
        "version": 3
      },
      "file_extension": ".py",
      "mimetype": "text/x-python",
      "name": "python",
      "nbconvert_exporter": "python",
      "pygments_lexer": "ipython3",
      "version": "3.6.1"
    },
    "colab": {
      "name": "Day33_YOLO 細節理解 - 網路輸出的後處理_HW.ipynb",
      "provenance": [],
      "include_colab_link": true
    }
  },
  "cells": [
    {
      "cell_type": "markdown",
      "metadata": {
        "id": "view-in-github",
        "colab_type": "text"
      },
      "source": [
        "<a href=\"https://colab.research.google.com/github/PatrickRuan/DL-CVMarathon/blob/master/homework/Day33_YOLO_%E7%B4%B0%E7%AF%80%E7%90%86%E8%A7%A3_%E7%B6%B2%E8%B7%AF%E8%BC%B8%E5%87%BA%E7%9A%84%E5%BE%8C%E8%99%95%E7%90%86_HW.ipynb\" target=\"_parent\"><img src=\"https://colab.research.google.com/assets/colab-badge.svg\" alt=\"Open In Colab\"/></a>"
      ]
    },
    {
      "cell_type": "markdown",
      "metadata": {
        "id": "Bu7RSyCqYdBS"
      },
      "source": [
        "## YOLO 細節理解 - 網路輸出的後處理    \n",
        "今天的課程，我們說明了NMS在yolo中運作的情形:\n",
        "* NMS在YOLO的實際運作以每一個類別為主，各別執行NMS。     \n",
        "* YOLO 在NMS中採用的信心度為「每個 bbox 包含各類別的信心度」      \n"
      ]
    },
    {
      "cell_type": "markdown",
      "metadata": {
        "id": "Z9YHBcEGYdBV"
      },
      "source": [
        "### 作業\n",
        "在NMS流程中，IoU重疊率參數(nms_threshold )調高，試著思考一下輸出的預測框會有甚麼變化?\n",
        "Hint: 可以回頭看今天介紹的內容，思考輸出的預測框變多或變少?\n"
      ]
    },
    {
      "cell_type": "code",
      "metadata": {
        "id": "yz28_IgkYdBW",
        "outputId": "a12f486c-18b3-4fb5-d06c-f162aebd9444",
        "colab": {
          "base_uri": "https://localhost:8080/",
          "height": 34
        }
      },
      "source": [
        "'''\n",
        "框會變多\n",
        "'''"
      ],
      "execution_count": null,
      "outputs": [
        {
          "output_type": "execute_result",
          "data": {
            "text/plain": [
              "'\\n你的答案\\n'"
            ]
          },
          "metadata": {
            "tags": []
          },
          "execution_count": 1
        }
      ]
    }
  ]
}