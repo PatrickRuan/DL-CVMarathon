{
  "nbformat": 4,
  "nbformat_minor": 0,
  "metadata": {
    "kernelspec": {
      "display_name": "Python 3",
      "language": "python",
      "name": "python3"
    },
    "language_info": {
      "codemirror_mode": {
        "name": "ipython",
        "version": 3
      },
      "file_extension": ".py",
      "mimetype": "text/x-python",
      "name": "python",
      "nbconvert_exporter": "python",
      "pygments_lexer": "ipython3",
      "version": "3.6.8"
    },
    "colab": {
      "name": "Day009_Sample.ipynb",
      "provenance": [],
      "include_colab_link": true
    }
  },
  "cells": [
    {
      "cell_type": "markdown",
      "metadata": {
        "id": "view-in-github",
        "colab_type": "text"
      },
      "source": [
        "<a href=\"https://colab.research.google.com/github/PatrickRuan/DL-CVMarathon/blob/master/homework/Day009_Sample.ipynb\" target=\"_parent\"><img src=\"https://colab.research.google.com/assets/colab-badge.svg\" alt=\"Open In Colab\"/></a>"
      ]
    },
    {
      "cell_type": "markdown",
      "metadata": {
        "id": "FHSmGczjaMjx"
      },
      "source": [
        "# 範例\n",
        "\n",
        "取得 SIFT 特徵\n",
        "\n",
        "- 轉成灰階圖片\n",
        "- 需要額外安裝 OpenCV 相關套件"
      ]
    },
    {
      "cell_type": "code",
      "metadata": {
        "id": "YxXbCdIpaMjz"
      },
      "source": [
        "import numpy as np\n",
        "import cv2\n",
        "\n",
        "img = cv2.imread('data/lena.png')"
      ],
      "execution_count": null,
      "outputs": []
    },
    {
      "cell_type": "code",
      "metadata": {
        "id": "jKbn02GiaMj3"
      },
      "source": [
        "# 轉灰階圖片\n",
        "img_gray = cv2.cvtColor(img, cv2.COLOR_BGR2GRAY)\n",
        "\n",
        "# 建立 SIFT 物件\n",
        "SIFT_detector = cv2.xfeatures2d.SIFT_create()\n",
        "\n",
        "# 取得 SIFT 關鍵點位置\n",
        "keypoints = SIFT_detector.detect(img_gray, None)\n",
        "\n",
        "#　畫圖 + 顯示圖片\n",
        "img_show = cv2.drawKeypoints(img_gray, keypoints, img)\n",
        "while True:\n",
        "    cv2.imshow('SIFT', img_show)\n",
        "    k = cv2.waitKey(0)\n",
        "    if k == 27:\n",
        "        cv2.destroyAllWindows()\n",
        "        break"
      ],
      "execution_count": null,
      "outputs": []
    }
  ]
}