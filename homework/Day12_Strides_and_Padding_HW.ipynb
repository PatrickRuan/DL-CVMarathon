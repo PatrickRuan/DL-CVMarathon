{
  "nbformat": 4,
  "nbformat_minor": 0,
  "metadata": {
    "colab": {
      "name": "Day12_Strides and Padding_HW.ipynb",
      "provenance": [],
      "include_colab_link": true
    },
    "kernelspec": {
      "display_name": "Python 3",
      "language": "python",
      "name": "python3"
    },
    "language_info": {
      "codemirror_mode": {
        "name": "ipython",
        "version": 3
      },
      "file_extension": ".py",
      "mimetype": "text/x-python",
      "name": "python",
      "nbconvert_exporter": "python",
      "pygments_lexer": "ipython3",
      "version": "3.6.7"
    }
  },
  "cells": [
    {
      "cell_type": "markdown",
      "metadata": {
        "id": "view-in-github",
        "colab_type": "text"
      },
      "source": [
        "<a href=\"https://colab.research.google.com/github/PatrickRuan/DL-CVMarathon/blob/master/homework/Day12_Strides_and_Padding_HW.ipynb\" target=\"_parent\"><img src=\"https://colab.research.google.com/assets/colab-badge.svg\" alt=\"Open In Colab\"/></a>"
      ]
    },
    {
      "cell_type": "markdown",
      "metadata": {
        "id": "0BBfdBwkyTiQ"
      },
      "source": [
        "## 『作業內容』\n",
        "####   依照指示，透過調整Padding、Strides參數控制輸出Feature map大小\n"
      ]
    },
    {
      "cell_type": "markdown",
      "metadata": {
        "id": "7CtbcEb4yTiT"
      },
      "source": [
        "## 『目標』\n",
        "####   了解輸出feature map尺寸變化原理"
      ]
    },
    {
      "cell_type": "code",
      "metadata": {
        "id": "2fhi3otQyTiU",
        "outputId": "be76350c-01da-4c6d-e829-6458dcfb8366",
        "colab": {
          "base_uri": "https://localhost:8080/",
          "height": 1000
        }
      },
      "source": [
        "from keras.models import Sequential\n",
        "from keras.layers import Convolution2D\n",
        "from keras.layers import Input, Dense\n",
        "from keras.models import Model\n",
        "\n",
        "\n",
        "##kernel size=(6,6)\n",
        "##kernel數量：32\n",
        "\n",
        "## Same padding、strides=(1,1)\n",
        "inputs = Input(shape=(13,13,1))\n",
        "x=Convolution2D(32,(6,6),padding ='same')(inputs)\n",
        "model = Model(inputs=inputs, outputs=x)\n",
        "model.summary()\n",
        "print('==================================\\n\\n\\n')\n",
        "\n",
        "## Same padding、strides=(2,2)\n",
        "inputs = Input(shape=(13,13,1))\n",
        "x=Convolution2D(32,(6,6),padding = 'same', strides =(2,2))(inputs)\n",
        "model = Model(inputs=inputs, outputs=x)\n",
        "model.summary()\n",
        "print('==================================\\n\\n\\n')\n",
        "\n",
        "\n",
        "## Valid padding、strides=(1,1)\n",
        "inputs = Input(shape=(13,13,1))\n",
        "x=Convolution2D(32,(6,6), padding = 'valid', strides = (1,1))(inputs)\n",
        "model = Model(inputs=inputs, outputs=x)\n",
        "model.summary()\n",
        "print('==================================\\n\\n\\n')\n",
        "\n",
        "\n",
        "## Valid padding、strides=(2,2)\n",
        "inputs = Input(shape=(13,13,1))\n",
        "x=Convolution2D(32,(6,6), padding ='valid', strides = (2,2))(inputs)\n",
        "model = Model(inputs=inputs, outputs=x)\n",
        "model.summary()\n",
        "print('==================================\\n\\n')\n",
        "\n"
      ],
      "execution_count": 4,
      "outputs": [
        {
          "output_type": "stream",
          "text": [
            "Model: \"functional_21\"\n",
            "_________________________________________________________________\n",
            "Layer (type)                 Output Shape              Param #   \n",
            "=================================================================\n",
            "input_12 (InputLayer)        [(None, 13, 13, 1)]       0         \n",
            "_________________________________________________________________\n",
            "conv2d_10 (Conv2D)           (None, 13, 13, 32)        1184      \n",
            "=================================================================\n",
            "Total params: 1,184\n",
            "Trainable params: 1,184\n",
            "Non-trainable params: 0\n",
            "_________________________________________________________________\n",
            "==================================\n",
            "\n",
            "\n",
            "\n",
            "Model: \"functional_23\"\n",
            "_________________________________________________________________\n",
            "Layer (type)                 Output Shape              Param #   \n",
            "=================================================================\n",
            "input_13 (InputLayer)        [(None, 13, 13, 1)]       0         \n",
            "_________________________________________________________________\n",
            "conv2d_11 (Conv2D)           (None, 7, 7, 32)          1184      \n",
            "=================================================================\n",
            "Total params: 1,184\n",
            "Trainable params: 1,184\n",
            "Non-trainable params: 0\n",
            "_________________________________________________________________\n",
            "==================================\n",
            "\n",
            "\n",
            "\n",
            "Model: \"functional_25\"\n",
            "_________________________________________________________________\n",
            "Layer (type)                 Output Shape              Param #   \n",
            "=================================================================\n",
            "input_14 (InputLayer)        [(None, 13, 13, 1)]       0         \n",
            "_________________________________________________________________\n",
            "conv2d_12 (Conv2D)           (None, 8, 8, 32)          1184      \n",
            "=================================================================\n",
            "Total params: 1,184\n",
            "Trainable params: 1,184\n",
            "Non-trainable params: 0\n",
            "_________________________________________________________________\n",
            "==================================\n",
            "\n",
            "\n",
            "\n",
            "Model: \"functional_27\"\n",
            "_________________________________________________________________\n",
            "Layer (type)                 Output Shape              Param #   \n",
            "=================================================================\n",
            "input_15 (InputLayer)        [(None, 13, 13, 1)]       0         \n",
            "_________________________________________________________________\n",
            "conv2d_13 (Conv2D)           (None, 4, 4, 32)          1184      \n",
            "=================================================================\n",
            "Total params: 1,184\n",
            "Trainable params: 1,184\n",
            "Non-trainable params: 0\n",
            "_________________________________________________________________\n",
            "==================================\n",
            "\n",
            "\n"
          ],
          "name": "stdout"
        }
      ]
    }
  ]
}