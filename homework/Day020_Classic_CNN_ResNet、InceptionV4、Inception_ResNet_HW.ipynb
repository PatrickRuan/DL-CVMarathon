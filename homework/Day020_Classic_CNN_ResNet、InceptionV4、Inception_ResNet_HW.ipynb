{
  "nbformat": 4,
  "nbformat_minor": 0,
  "metadata": {
    "colab": {
      "name": "Day020_Classic CNN-ResNet、InceptionV4、Inception-ResNet_HW.ipynb",
      "provenance": [],
      "include_colab_link": true
    },
    "kernelspec": {
      "display_name": "Python 3",
      "language": "python",
      "name": "python3"
    },
    "language_info": {
      "codemirror_mode": {
        "name": "ipython",
        "version": 3
      },
      "file_extension": ".py",
      "mimetype": "text/x-python",
      "name": "python",
      "nbconvert_exporter": "python",
      "pygments_lexer": "ipython3",
      "version": "3.6.7"
    }
  },
  "cells": [
    {
      "cell_type": "markdown",
      "metadata": {
        "id": "view-in-github",
        "colab_type": "text"
      },
      "source": [
        "<a href=\"https://colab.research.google.com/github/PatrickRuan/DL-CVMarathon/blob/master/homework/Day020_Classic_CNN_ResNet%E3%80%81InceptionV4%E3%80%81Inception_ResNet_HW.ipynb\" target=\"_parent\"><img src=\"https://colab.research.google.com/assets/colab-badge.svg\" alt=\"Open In Colab\"/></a>"
      ]
    },
    {
      "cell_type": "markdown",
      "metadata": {
        "id": "zxrUolU7KGUS"
      },
      "source": [
        "## 『本次練習內容』\n",
        "#### 學習如何搭建 Residual Block\n",
        "####  學習如何搭建Inception-ResNet中的 Inception Block"
      ]
    },
    {
      "cell_type": "markdown",
      "metadata": {
        "id": "uOW03gpvKGUV"
      },
      "source": [
        "## 『本次練習目的』\n",
        "  #### 了解 Residual Block原理\n",
        "  #### 了解如何結合Inception 與 Residual概念"
      ]
    },
    {
      "cell_type": "markdown",
      "metadata": {
        "id": "5_NsQkM6KGUW"
      },
      "source": [
        "---"
      ]
    },
    {
      "cell_type": "code",
      "metadata": {
        "id": "1temzU5fMBxI",
        "outputId": "ffa0d18a-ac15-4956-a0d5-2b2d4afa0b18",
        "colab": {
          "base_uri": "https://localhost:8080/",
          "height": 54
        }
      },
      "source": [
        "from google.colab import drive\n",
        "drive.mount('/content/drive')\n",
        "!cp drive/'My Drive'/教學/發布/23_CV/ResNet_Structure.png .\n",
        "!cp drive/'My Drive'/教學/發布/23_CV/Inception-ResNet*.png ."
      ],
      "execution_count": 33,
      "outputs": [
        {
          "output_type": "stream",
          "text": [
            "Drive already mounted at /content/drive; to attempt to forcibly remount, call drive.mount(\"/content/drive\", force_remount=True).\n"
          ],
          "name": "stdout"
        }
      ]
    },
    {
      "cell_type": "markdown",
      "metadata": {
        "id": "pqh9cUlMKGUX"
      },
      "source": [
        "## Part1"
      ]
    },
    {
      "cell_type": "code",
      "metadata": {
        "id": "QBakcesMKGUY"
      },
      "source": [
        "import numpy as np\n",
        "from keras.models import Model\n",
        "from keras.layers import Flatten\n",
        "from keras.layers import Dense\n",
        "from keras.layers import Input\n",
        "from keras.layers import Conv2D\n",
        "from keras.layers import MaxPooling2D\n",
        "from keras.layers import GlobalMaxPooling2D\n",
        "from keras.layers import GlobalAveragePooling2D\n",
        "from keras import backend as K\n",
        "from keras import layers\n",
        "from keras.layers import BatchNormalization\n",
        "from keras.layers import Activation\n",
        "from keras.layers import Concatenate\n",
        "from keras.layers import Lambda"
      ],
      "execution_count": 34,
      "outputs": []
    },
    {
      "cell_type": "markdown",
      "metadata": {
        "id": "G8mrkgVNKGUj"
      },
      "source": [
        "![Incpeiton](ResNet_Structure.png)"
      ]
    },
    {
      "cell_type": "markdown",
      "metadata": {
        "id": "DF5-JdqqKGUk"
      },
      "source": [
        "## ResNetV1"
      ]
    },
    {
      "cell_type": "code",
      "metadata": {
        "id": "N3Ki900KKGUm"
      },
      "source": [
        "def Residual_block(input_tensor, kernel_size, filters, stage, block):\n",
        "    filters1, filters2, filters3 = filters\n",
        "    conv_name_base = 'res' + str(stage) + block + '_branch'\n",
        "    bn_name_base = 'bn' + str(stage) + block + '_branch'\n",
        "\n",
        "    x = Conv2D(filters1, (1, 1), name=conv_name_base + '2a')(input_tensor)\n",
        "    x = BatchNormalization(axis=3, name=bn_name_base + '2a')(x)\n",
        "    x = Activation('relu')(x)\n",
        "\n",
        "    x = Conv2D(filters2, kernel_size,\n",
        "               padding='same', name=conv_name_base + '2b')(x)\n",
        "    x = BatchNormalization(axis=3, name=bn_name_base + '2b')(x)\n",
        "   \n",
        "\n",
        "    x = layers.add([x, input_tensor]) # y = f(x)+x\n",
        "    x = Activation('relu')(x)\n",
        "    return x"
      ],
      "execution_count": 35,
      "outputs": []
    },
    {
      "cell_type": "markdown",
      "metadata": {
        "id": "WyUiFZbYKGUr"
      },
      "source": [
        "## 參考ResNetV1 搭建 ResNetV2版本的Residual Block"
      ]
    },
    {
      "cell_type": "code",
      "metadata": {
        "id": "3kO4lmQmKGUu"
      },
      "source": [
        "def Residual_block(input_tensor, kernel_size, filters, stage, block):\n",
        "    filters1, filters2 = filters\n",
        "    conv_name_base = 'res' + str(stage) + block + '_branch'\n",
        "    bn_name_base = 'bn' + str(stage) + block + '_branch'\n",
        "    \n",
        "    '''搭建V2版本Block'''\n",
        "    '''\n",
        "    x = Conv2D(filters1, (1, 1), name=conv_name_base + '2a')(input_tensor)\n",
        "    x = BatchNormalization(axis=3, name=bn_name_base + '2a')(x)\n",
        "    x = Activation('relu')(x)\n",
        "\n",
        "    x = Conv2D(filters2, kernel_size,\n",
        "               padding='same', name=conv_name_base + '2b')(x)\n",
        "    x = BatchNormalization(axis=3, name=bn_name_base + '2b')(x)\n",
        "   \n",
        "\n",
        "    x = layers.add([x, input_tensor]) # y = f(x)+x\n",
        "    x = Activation('relu')(x)'''\n",
        "\n",
        "    x = BatchNormalization(axis=3, name=bn_name_base+'2a')(input_tensor)\n",
        "    x = Activation('relu')(x)\n",
        "    x = Conv2D(filters1, kernel_size,padding='same', name=conv_name_base + '2a')(x)\n",
        "\n",
        "    x = BatchNormalization(axis=3, name=bn_name_base+'2b')(x)\n",
        "    x = Activation('relu')(x)\n",
        "    x = Conv2D(filters2, (1, 1), name=conv_name_base+'2b')(x)\n",
        "    \n",
        "    x = layers.add([x, input_tensor])\n",
        "    return x"
      ],
      "execution_count": 36,
      "outputs": []
    },
    {
      "cell_type": "markdown",
      "metadata": {
        "id": "CyUN9Gy6KGVK"
      },
      "source": [
        "## 試試看自己設計一個先壓縮再回放的V2 Block"
      ]
    },
    {
      "cell_type": "code",
      "metadata": {
        "id": "bZl7YRv3KGVM"
      },
      "source": [
        "def Residual_block_v2(input_tensor, kernel_size, stage, block,reduce=96,ouput_size=128):\n",
        "    conv_name_base = 'res' + str(stage) + block + '_branch'\n",
        "    bn_name_base = 'bn' + str(stage) + block + '_branch'\n",
        "\n",
        "    x = Conv2D(reduce, (1, 1), name=conv_name_base + '2a')(input_tensor)\n",
        "    x = BatchNormalization(axis=3, name=bn_name_base + '2a')(x)\n",
        "    x = Activation('relu')(x)\n",
        "\n",
        "    x = Conv2D(reduce, kernel_size,\n",
        "               padding='same', name=conv_name_base + '2b')(x)\n",
        "    x = BatchNormalization(axis=3, name=bn_name_base + '2b')(x)\n",
        "    x = Activation('relu')(x)\n",
        "\n",
        "    x = Conv2D(ouput_size, (1, 1), name=conv_name_base + '2c')(x)\n",
        "\n",
        "    \n",
        "    \n",
        "    x = layers.add([x, input_tensor])\n",
        "    return x"
      ],
      "execution_count": 37,
      "outputs": []
    },
    {
      "cell_type": "code",
      "metadata": {
        "id": "UpuRLDVnPJNo",
        "outputId": "5cbd4654-93a0-4eb6-e001-ef88f94bdc45",
        "colab": {
          "base_uri": "https://localhost:8080/",
          "height": 34
        }
      },
      "source": [
        "img_input = Input(shape=(224,224,128))\n",
        "x=Residual_block_v2(img_input,3, 2,'Residual')\n",
        "print(x)"
      ],
      "execution_count": 38,
      "outputs": [
        {
          "output_type": "stream",
          "text": [
            "Tensor(\"add_1/add:0\", shape=(None, 224, 224, 128), dtype=float32)\n"
          ],
          "name": "stdout"
        }
      ]
    },
    {
      "cell_type": "markdown",
      "metadata": {
        "id": "M6nEyd4yKGVr"
      },
      "source": [
        "---"
      ]
    },
    {
      "cell_type": "markdown",
      "metadata": {
        "id": "bxwLzMiyKGVt"
      },
      "source": [
        "## Part2"
      ]
    },
    {
      "cell_type": "markdown",
      "metadata": {
        "id": "tfa8Vx5iJbZU"
      },
      "source": [
        "## Incpetion Block-A"
      ]
    },
    {
      "cell_type": "markdown",
      "metadata": {
        "id": "xbuyi79mJbZX"
      },
      "source": [
        "![Incpeiton](Inception-ResNet-A.png)"
      ]
    },
    {
      "cell_type": "markdown",
      "metadata": {
        "id": "3GI24k24JbZa"
      },
      "source": [
        "## Incpetion Block-B"
      ]
    },
    {
      "cell_type": "markdown",
      "metadata": {
        "id": "Ge28e58BJbZd"
      },
      "source": [
        "![Incpeiton](Inception-ResNet-B.png)"
      ]
    },
    {
      "cell_type": "markdown",
      "metadata": {
        "id": "aMz1WNBsJbZg"
      },
      "source": [
        "## Incpetion Block-C"
      ]
    },
    {
      "cell_type": "markdown",
      "metadata": {
        "id": "A4lY1HV6JbZj"
      },
      "source": [
        "![Incpeiton](Inception-ResNet-C.png)"
      ]
    },
    {
      "cell_type": "code",
      "metadata": {
        "id": "t9IKAa_4JbZ1"
      },
      "source": [
        "def Conv2d_bn(x,filters,kernel_size,padding='same',strides=(1, 1),normalizer=True,activation='relu',name=None):\n",
        "    if name is not None:\n",
        "        conv_name = name + '_conv'\n",
        "        bn_name = name + '_bn'\n",
        "        act_name = name + '_act'\n",
        "    else:\n",
        "        conv_name = None\n",
        "        bn_name = None\n",
        "        act_name = None\n",
        "    if K.image_data_format() == 'channels_first':\n",
        "        bn_axis = 1\n",
        "    else:\n",
        "        bn_axis = 3\n",
        "    x = Conv2D(\n",
        "            filters, kernel_size,\n",
        "            strides=strides, padding=padding,\n",
        "            use_bias=False, name=conv_name)(x)\n",
        "    if normalizer:\n",
        "        x = BatchNormalization(axis=bn_axis, scale=False, name=bn_name)(x)\n",
        "    if activation:\n",
        "        x = Activation(activation, name=act_name)(x)\n",
        "    return x"
      ],
      "execution_count": 39,
      "outputs": []
    },
    {
      "cell_type": "code",
      "metadata": {
        "id": "d7iVPJQkJbZ-"
      },
      "source": [
        "def Residual_block(input_tensor, kernel_size, filters, stage, block):\n",
        "    filters1, filters2, filters3 = filters\n",
        "    conv_name_base = 'res' + str(stage) + block + '_branch'\n",
        "    bn_name_base = 'bn' + str(stage) + block + '_branch'\n",
        "\n",
        "    x = Conv2D(filters1, (1, 1), name=conv_name_base + '2a')(input_tensor)\n",
        "    x = BatchNormalization(axis=3, name=bn_name_base + '2a')(x)\n",
        "    x = Activation('relu')(x)\n",
        "\n",
        "    x = Conv2D(filters2, kernel_size,\n",
        "               padding='same', name=conv_name_base + '2b')(x)\n",
        "    x = BatchNormalization(axis=3, name=bn_name_base + '2b')(x)\n",
        "    x = Activation('relu')(x)\n",
        "\n",
        "    x = Conv2D(filters3, (1, 1), name=conv_name_base + '2c')(x)\n",
        "    x = BatchNormalization(axis=3, name=bn_name_base + '2c')(x)\n",
        "\n",
        "    x = layers.add([x, input_tensor])\n",
        "    x = Activation('relu')(x)\n",
        "    return x"
      ],
      "execution_count": 40,
      "outputs": []
    },
    {
      "cell_type": "markdown",
      "metadata": {
        "id": "M0BEkO7VJbaI"
      },
      "source": [
        "## 參考上方Residual_block搭建 Inception-ResNet中的Inception Block"
      ]
    },
    {
      "cell_type": "code",
      "metadata": {
        "id": "XJjxq9lWJbaN"
      },
      "source": [
        "def inception_resnet_block(x, scale, block_type, activation='relu'):\n",
        "    '''scale: scaling factor to scale the residuals (i.e., the output of\n",
        "            passing `x` through an inception module) before adding them\n",
        "            to the shortcut branch. Let `r` be the output from the residual branch,\n",
        "            the output of this block will be `x + scale * r`.(簡單來說就是控制Residual branch的比例)'''\n",
        "    if block_type == 'Incpetion_Block-A':\n",
        "      # Conv2d_bn(x, filters, kernel_size, padding='same', strides=(1, 1), normalizer=True, activation='relu', name=None)\n",
        "\n",
        "        branch_0 = Conv2d_bn(x, 32, (1,1)) \n",
        "        branch_1 = Conv2d_bn(x, 32, (1,1))\n",
        "        branch_1 = Conv2d_bn(branch_1, 32, (3,3))\n",
        "        branch_2 = Conv2d_bn(x,32,(1,1))\n",
        "        branch_2 = Conv2d_bn(branch_2,48,(3,3))\n",
        "        branch_2 = Conv2d_bn(branch_2,64,(3,3))\n",
        "        branches = [branch_0, branch_1, branch_2]\n",
        "    elif block_type == 'Incpetion_Block-B':\n",
        "        branch_0 = Conv2d_bn(x, 192, (1,1)) \n",
        "        branch_1 = Conv2d_bn(x, 128, (1,1))\n",
        "        branch_1 = Conv2d_bn(branch_1, 160, (1, 7))\n",
        "        branch_1 = Conv2d_bn(branch_1, 192, (7, 1))\n",
        "        branches = [branch_0, branch_1]\n",
        "    elif block_type == 'Incpetion_Block-C':\n",
        "        branch_0 = Conv2d_bn(x, 192, (1,1))\n",
        "        branch_1 = Conv2d_bn(x, 192, (1,1))\n",
        "        branch_1 = Conv2d_bn(branch_1, 192, (1, 3))\n",
        "        branch_1 = Conv2d_bn(branch_1, 192, (3, 1))\n",
        "        branches = [branch_0, branch_1]\n",
        "    else:\n",
        "        raise ValueError('Unknown Inception-ResNet block type. '\n",
        "                         'Expects \"block35\", \"block17\" or \"block8\", '\n",
        "                         'but got: ' + str(block_type))\n",
        "    mixed = Concatenate(axis=3)(branches)\n",
        "    \n",
        "    '''確保輸入跟輸出深度相同'''\n",
        "    up = Conv2d_bn(mixed,K.int_shape(x)[3],1,activation=None)\n",
        "    \n",
        "    '''導入殘差結構，並給予權重'''\n",
        "    \n",
        "    x = Lambda(lambda inputs, scale: inputs[0]+ inputs[1] * scale, ##提示inputs[0]、inputs[1]\n",
        "               output_shape=K.int_shape(x)[1:],\n",
        "               arguments={'scale': scale},)([x,up])\n",
        "    \n",
        "    if activation is not None:\n",
        "        x = Activation(activation)(x)\n",
        "    return x\n"
      ],
      "execution_count": 41,
      "outputs": []
    },
    {
      "cell_type": "code",
      "metadata": {
        "id": "wv-ni8GpJbaU",
        "outputId": "6af493a4-5625-4994-ea5e-a2110774b9d4",
        "colab": {
          "base_uri": "https://localhost:8080/",
          "height": 34
        }
      },
      "source": [
        "img_input = Input(shape=(224,224,32))\n",
        "x=inception_resnet_block(img_input, 0.1, 'Incpetion_Block-A', activation='relu')\n",
        "print(x)"
      ],
      "execution_count": 42,
      "outputs": [
        {
          "output_type": "stream",
          "text": [
            "Tensor(\"activation_109/Relu:0\", shape=(None, 224, 224, 32), dtype=float32)\n"
          ],
          "name": "stdout"
        }
      ]
    },
    {
      "cell_type": "markdown",
      "metadata": {
        "id": "HOBuOAjOJbab"
      },
      "source": [
        "## 測試"
      ]
    },
    {
      "cell_type": "code",
      "metadata": {
        "id": "T-igNjppJbad",
        "outputId": "d367361a-04b1-405e-bd7a-4edcf5a2e119",
        "colab": {
          "base_uri": "https://localhost:8080/",
          "height": 34
        }
      },
      "source": [
        "img_input = Input(shape=(224,224,32))\n",
        "x=inception_resnet_block(img_input, 0.1, 'Incpetion_Block-A', activation='relu')\n",
        "print(x)"
      ],
      "execution_count": 43,
      "outputs": [
        {
          "output_type": "stream",
          "text": [
            "Tensor(\"activation_116/Relu:0\", shape=(None, 224, 224, 32), dtype=float32)\n"
          ],
          "name": "stdout"
        }
      ]
    },
    {
      "cell_type": "code",
      "metadata": {
        "id": "V7otKKZWJbah",
        "outputId": "3ece2b02-bc61-45a4-f23c-ba37975f6cf1",
        "colab": {
          "base_uri": "https://localhost:8080/",
          "height": 34
        }
      },
      "source": [
        "img_input = Input(shape=(224,224,32))\n",
        "x=inception_resnet_block(img_input, 0.1, 'Incpetion_Block-B', activation='relu')\n",
        "print(x)"
      ],
      "execution_count": 44,
      "outputs": [
        {
          "output_type": "stream",
          "text": [
            "Tensor(\"activation_121/Relu:0\", shape=(None, 224, 224, 32), dtype=float32)\n"
          ],
          "name": "stdout"
        }
      ]
    },
    {
      "cell_type": "code",
      "metadata": {
        "id": "RjxCkTlHJbal",
        "outputId": "15246fb4-0aac-4fb0-a68d-8b627ac018c9",
        "colab": {
          "base_uri": "https://localhost:8080/",
          "height": 34
        }
      },
      "source": [
        "img_input = Input(shape=(224,224,32))\n",
        "x=inception_resnet_block(img_input, 0.1, 'Incpetion_Block-C', activation='relu')\n",
        "print(x)"
      ],
      "execution_count": 45,
      "outputs": [
        {
          "output_type": "stream",
          "text": [
            "Tensor(\"activation_126/Relu:0\", shape=(None, 224, 224, 32), dtype=float32)\n"
          ],
          "name": "stdout"
        }
      ]
    },
    {
      "cell_type": "markdown",
      "metadata": {
        "id": "UYD4kS0BJbao"
      },
      "source": [
        "## 嘗試導入Inception Block到 Vgg_Inception中"
      ]
    },
    {
      "cell_type": "code",
      "metadata": {
        "id": "FEe8WW2qJbap",
        "outputId": "76cbb593-3651-4cfd-a630-83e40d16a06a",
        "colab": {
          "base_uri": "https://localhost:8080/",
          "height": 1000
        }
      },
      "source": [
        "'''def VGG16_ResNet_Inception(include_top=True,input_tensor=None, input_shape=(224,224,1),\n",
        "          pooling='max',classes=1000):\n",
        " \n",
        "    img_input = Input(shape=input_shape)\n",
        "\n",
        "    x = Conv2d_bn(img_input,64, (3, 3), activation='relu', padding='same', name='block1_conv1')\n",
        "\n",
        "    x = Conv2d_bn(x,64, (3, 3), activation='relu', padding='same', name='block1_conv2')\n",
        "    x = MaxPooling2D((2, 2), strides=(2, 2), name='block1_pool')(x)\n",
        "    \n",
        "    # Block 2\n",
        "    x = Conv2d_bn(x,128, (3, 3), activation='relu', padding='same', name='block2_conv1')\n",
        "    x = Conv2d_bn(x,128, (3, 3), activation='relu', padding='same', name='block2_conv2')\n",
        "    x = MaxPooling2D((2, 2), strides=(2, 2), name='block2_pool')(x)\n",
        "    '''\n",
        "def VGG16_ResNet_Inception(include_top=True,input_tensor=None, input_shape=(224,224,1),\n",
        "          pooling='max',classes=1000):\n",
        " \n",
        "    img_input = Input(shape=input_shape)\n",
        "    x = Conv2d_bn(img_input,64, (3, 3), activation='relu', padding='same', name='block1_conv1')\n",
        "    x = Conv2d_bn(x,64, (3, 3), activation='relu', padding='same', name='block1_conv2')\n",
        "    x = MaxPooling2D((2, 2), strides=(2, 2), name='block1_pool')(x)\n",
        "\n",
        "\n",
        "    \n",
        "    # Block 2\n",
        "    x = Conv2d_bn(x,128, (3, 3), activation='relu', padding='same', name='block2_conv1')\n",
        "    x = Conv2d_bn(x,128, (3, 3), activation='relu', padding='same', name='block2_conv2')\n",
        "    x = MaxPooling2D((2, 2), strides=(2, 2), name='block2_pool')(x)\n",
        "\n",
        "    \n",
        "    # Block 3\n",
        "    x = inception_resnet_block(x, 0.1, 'Incpetion_Block-A', activation='relu')\n",
        "    x = inception_resnet_block(x, 0.1, 'Incpetion_Block-A', activation='relu')\n",
        "    x = inception_resnet_block(x, 0.1, 'Incpetion_Block-A', activation='relu')\n",
        "    x = MaxPooling2D((2, 2), strides=(2, 2), name='block3_pool')(x)\n",
        "\n",
        "    # Block 4\n",
        "    x = Conv2d_bn(x,512, (3, 3), activation='relu', padding='same', name='block4_conv1')\n",
        "    x = Conv2d_bn(x,512, (3, 3), activation='relu', padding='same', name='block4_conv2')\n",
        "    x = Conv2d_bn(x,512, (3, 3), activation='relu', padding='same', name='block4_conv3')\n",
        "    x = MaxPooling2D((2, 2), strides=(2, 2), name='block4_pool')(x)\n",
        "\n",
        "    # Block 5\n",
        "    x =inception_resnet_block(x, 0.1, 'Incpetion_Block-B', activation='relu')\n",
        "    x =inception_resnet_block(x, 0.1, 'Incpetion_Block-B', activation='relu')\n",
        "    x =inception_resnet_block(x, 0.1, 'Incpetion_Block-B', activation='relu')\n",
        "    x =MaxPooling2D((2, 2), strides=(2, 2), name='block5_pool')(x)\n",
        "\n",
        "    if include_top:\n",
        "        # Classification block\n",
        "        x = Flatten(name='flatten')(x)\n",
        "        x = Dense(4096, activation='relu', name='fc1')(x)\n",
        "        x = Dense(4096, activation='relu', name='fc2')(x)\n",
        "        x = Dense(classes, activation='softmax', name='predictions')(x)\n",
        "    else:\n",
        "       #可以提醒學員為什麼要加avg或是max\n",
        "        if pooling == 'avg':\n",
        "            x = GlobalAveragePooling2D()(x)\n",
        "        elif pooling == 'max':\n",
        "            x = GlobalMaxPooling2D()(x)\n",
        "\n",
        "    '''\n",
        "\n",
        "    # Block 3\n",
        "    x=inception_resnet_block(img_input, 0.1, 'Incpetion_Block-B', activation='relu')\n",
        "\n",
        "    # x=inception_resnet_block(img_input, 0.1, 'Incpetion_Block-B', activation='relu')\n",
        "    x = inception_resnet_block(img_input, 0.1, 'Incpetion_Block-B', activation='relu')\n",
        "    x = inception_resnet_block(img_input, 0.1, 'Incpetion_Block-B', activation='relu')\n",
        "    x = MaxPooling2D((2, 2), strides=(2, 2), name='block3_pool')(x)\n",
        "\n",
        "    # Block 4\n",
        "    x = Conv2d_bn(x,512, (3, 3), activation='relu', padding='same', name='block4_conv1')\n",
        "    x = Conv2d_bn(x,512, (3, 3), activation='relu', padding='same', name='block4_conv2')\n",
        "    x = Conv2d_bn(x,512, (3, 3), activation='relu', padding='same', name='block4_conv3')\n",
        "    x = MaxPooling2D((2, 2), strides=(2, 2), name='block4_pool')(x)\n",
        "\n",
        "    # Block 5 \n",
        "    #為什麼要加InceptionV3_block 原因?\n",
        "    x =inception_resnet_block(x, 0.1, 'Incpetion_Block-B', activation='relu')\n",
        "    x =inception_resnet_block(x, 0.1, 'Incpetion_Block-B', activation='relu')\n",
        "    x =inception_resnet_block(x, 0.1, 'Incpetion_Block-B', activation='relu')\n",
        "    x =MaxPooling2D((2, 2), strides=(2, 2), name='block5_pool')(x)\n",
        "\n",
        "    if include_top:\n",
        "        # Classification block\n",
        "        x = Flatten(name='flatten')(x)\n",
        "        x = Dense(4096, activation='relu', name='fc1')(x)\n",
        "        x = Dense(4096, activation='relu', name='fc2')(x)\n",
        "        x = Dense(classes, activation='softmax', name='predictions')(x)'''\n",
        "\n",
        "\n",
        "    inputs = img_input\n",
        "    # Create model.\n",
        "    model = Model(inputs, x, name='vgg16')\n",
        "\n",
        "\n",
        "\n",
        "   \n",
        "    return model\n",
        "model = VGG16_ResNet_Inception(include_top=False)\n",
        "model.summary()\n"
      ],
      "execution_count": 67,
      "outputs": [
        {
          "output_type": "stream",
          "text": [
            "Model: \"vgg16\"\n",
            "__________________________________________________________________________________________________\n",
            "Layer (type)                    Output Shape         Param #     Connected to                     \n",
            "==================================================================================================\n",
            "input_27 (InputLayer)           [(None, 224, 224, 1) 0                                            \n",
            "__________________________________________________________________________________________________\n",
            "block1_conv1_conv (Conv2D)      (None, 224, 224, 64) 576         input_27[0][0]                   \n",
            "__________________________________________________________________________________________________\n",
            "block1_conv1_bn (BatchNormaliza (None, 224, 224, 64) 192         block1_conv1_conv[0][0]          \n",
            "__________________________________________________________________________________________________\n",
            "block1_conv1_act (Activation)   (None, 224, 224, 64) 0           block1_conv1_bn[0][0]            \n",
            "__________________________________________________________________________________________________\n",
            "block1_conv2_conv (Conv2D)      (None, 224, 224, 64) 36864       block1_conv1_act[0][0]           \n",
            "__________________________________________________________________________________________________\n",
            "block1_conv2_bn (BatchNormaliza (None, 224, 224, 64) 192         block1_conv2_conv[0][0]          \n",
            "__________________________________________________________________________________________________\n",
            "block1_conv2_act (Activation)   (None, 224, 224, 64) 0           block1_conv2_bn[0][0]            \n",
            "__________________________________________________________________________________________________\n",
            "block1_pool (MaxPooling2D)      (None, 112, 112, 64) 0           block1_conv2_act[0][0]           \n",
            "__________________________________________________________________________________________________\n",
            "block2_conv1_conv (Conv2D)      (None, 112, 112, 128 73728       block1_pool[0][0]                \n",
            "__________________________________________________________________________________________________\n",
            "block2_conv1_bn (BatchNormaliza (None, 112, 112, 128 384         block2_conv1_conv[0][0]          \n",
            "__________________________________________________________________________________________________\n",
            "block2_conv1_act (Activation)   (None, 112, 112, 128 0           block2_conv1_bn[0][0]            \n",
            "__________________________________________________________________________________________________\n",
            "block2_conv2_conv (Conv2D)      (None, 112, 112, 128 147456      block2_conv1_act[0][0]           \n",
            "__________________________________________________________________________________________________\n",
            "block2_conv2_bn (BatchNormaliza (None, 112, 112, 128 384         block2_conv2_conv[0][0]          \n",
            "__________________________________________________________________________________________________\n",
            "block2_conv2_act (Activation)   (None, 112, 112, 128 0           block2_conv2_bn[0][0]            \n",
            "__________________________________________________________________________________________________\n",
            "block2_pool (MaxPooling2D)      (None, 56, 56, 128)  0           block2_conv2_act[0][0]           \n",
            "__________________________________________________________________________________________________\n",
            "conv2d_378 (Conv2D)             (None, 56, 56, 32)   4096        block2_pool[0][0]                \n",
            "__________________________________________________________________________________________________\n",
            "batch_normalization_378 (BatchN (None, 56, 56, 32)   96          conv2d_378[0][0]                 \n",
            "__________________________________________________________________________________________________\n",
            "activation_382 (Activation)     (None, 56, 56, 32)   0           batch_normalization_378[0][0]    \n",
            "__________________________________________________________________________________________________\n",
            "conv2d_376 (Conv2D)             (None, 56, 56, 32)   4096        block2_pool[0][0]                \n",
            "__________________________________________________________________________________________________\n",
            "conv2d_379 (Conv2D)             (None, 56, 56, 48)   13824       activation_382[0][0]             \n",
            "__________________________________________________________________________________________________\n",
            "batch_normalization_376 (BatchN (None, 56, 56, 32)   96          conv2d_376[0][0]                 \n",
            "__________________________________________________________________________________________________\n",
            "batch_normalization_379 (BatchN (None, 56, 56, 48)   144         conv2d_379[0][0]                 \n",
            "__________________________________________________________________________________________________\n",
            "activation_380 (Activation)     (None, 56, 56, 32)   0           batch_normalization_376[0][0]    \n",
            "__________________________________________________________________________________________________\n",
            "activation_383 (Activation)     (None, 56, 56, 48)   0           batch_normalization_379[0][0]    \n",
            "__________________________________________________________________________________________________\n",
            "conv2d_375 (Conv2D)             (None, 56, 56, 32)   4096        block2_pool[0][0]                \n",
            "__________________________________________________________________________________________________\n",
            "conv2d_377 (Conv2D)             (None, 56, 56, 32)   9216        activation_380[0][0]             \n",
            "__________________________________________________________________________________________________\n",
            "conv2d_380 (Conv2D)             (None, 56, 56, 64)   27648       activation_383[0][0]             \n",
            "__________________________________________________________________________________________________\n",
            "batch_normalization_375 (BatchN (None, 56, 56, 32)   96          conv2d_375[0][0]                 \n",
            "__________________________________________________________________________________________________\n",
            "batch_normalization_377 (BatchN (None, 56, 56, 32)   96          conv2d_377[0][0]                 \n",
            "__________________________________________________________________________________________________\n",
            "batch_normalization_380 (BatchN (None, 56, 56, 64)   192         conv2d_380[0][0]                 \n",
            "__________________________________________________________________________________________________\n",
            "activation_379 (Activation)     (None, 56, 56, 32)   0           batch_normalization_375[0][0]    \n",
            "__________________________________________________________________________________________________\n",
            "activation_381 (Activation)     (None, 56, 56, 32)   0           batch_normalization_377[0][0]    \n",
            "__________________________________________________________________________________________________\n",
            "activation_384 (Activation)     (None, 56, 56, 64)   0           batch_normalization_380[0][0]    \n",
            "__________________________________________________________________________________________________\n",
            "concatenate_71 (Concatenate)    (None, 56, 56, 128)  0           activation_379[0][0]             \n",
            "                                                                 activation_381[0][0]             \n",
            "                                                                 activation_384[0][0]             \n",
            "__________________________________________________________________________________________________\n",
            "conv2d_381 (Conv2D)             (None, 56, 56, 128)  16384       concatenate_71[0][0]             \n",
            "__________________________________________________________________________________________________\n",
            "batch_normalization_381 (BatchN (None, 56, 56, 128)  384         conv2d_381[0][0]                 \n",
            "__________________________________________________________________________________________________\n",
            "lambda_71 (Lambda)              (None, 56, 56, 128)  0           block2_pool[0][0]                \n",
            "                                                                 batch_normalization_381[0][0]    \n",
            "__________________________________________________________________________________________________\n",
            "activation_385 (Activation)     (None, 56, 56, 128)  0           lambda_71[0][0]                  \n",
            "__________________________________________________________________________________________________\n",
            "conv2d_385 (Conv2D)             (None, 56, 56, 32)   4096        activation_385[0][0]             \n",
            "__________________________________________________________________________________________________\n",
            "batch_normalization_385 (BatchN (None, 56, 56, 32)   96          conv2d_385[0][0]                 \n",
            "__________________________________________________________________________________________________\n",
            "activation_389 (Activation)     (None, 56, 56, 32)   0           batch_normalization_385[0][0]    \n",
            "__________________________________________________________________________________________________\n",
            "conv2d_383 (Conv2D)             (None, 56, 56, 32)   4096        activation_385[0][0]             \n",
            "__________________________________________________________________________________________________\n",
            "conv2d_386 (Conv2D)             (None, 56, 56, 48)   13824       activation_389[0][0]             \n",
            "__________________________________________________________________________________________________\n",
            "batch_normalization_383 (BatchN (None, 56, 56, 32)   96          conv2d_383[0][0]                 \n",
            "__________________________________________________________________________________________________\n",
            "batch_normalization_386 (BatchN (None, 56, 56, 48)   144         conv2d_386[0][0]                 \n",
            "__________________________________________________________________________________________________\n",
            "activation_387 (Activation)     (None, 56, 56, 32)   0           batch_normalization_383[0][0]    \n",
            "__________________________________________________________________________________________________\n",
            "activation_390 (Activation)     (None, 56, 56, 48)   0           batch_normalization_386[0][0]    \n",
            "__________________________________________________________________________________________________\n",
            "conv2d_382 (Conv2D)             (None, 56, 56, 32)   4096        activation_385[0][0]             \n",
            "__________________________________________________________________________________________________\n",
            "conv2d_384 (Conv2D)             (None, 56, 56, 32)   9216        activation_387[0][0]             \n",
            "__________________________________________________________________________________________________\n",
            "conv2d_387 (Conv2D)             (None, 56, 56, 64)   27648       activation_390[0][0]             \n",
            "__________________________________________________________________________________________________\n",
            "batch_normalization_382 (BatchN (None, 56, 56, 32)   96          conv2d_382[0][0]                 \n",
            "__________________________________________________________________________________________________\n",
            "batch_normalization_384 (BatchN (None, 56, 56, 32)   96          conv2d_384[0][0]                 \n",
            "__________________________________________________________________________________________________\n",
            "batch_normalization_387 (BatchN (None, 56, 56, 64)   192         conv2d_387[0][0]                 \n",
            "__________________________________________________________________________________________________\n",
            "activation_386 (Activation)     (None, 56, 56, 32)   0           batch_normalization_382[0][0]    \n",
            "__________________________________________________________________________________________________\n",
            "activation_388 (Activation)     (None, 56, 56, 32)   0           batch_normalization_384[0][0]    \n",
            "__________________________________________________________________________________________________\n",
            "activation_391 (Activation)     (None, 56, 56, 64)   0           batch_normalization_387[0][0]    \n",
            "__________________________________________________________________________________________________\n",
            "concatenate_72 (Concatenate)    (None, 56, 56, 128)  0           activation_386[0][0]             \n",
            "                                                                 activation_388[0][0]             \n",
            "                                                                 activation_391[0][0]             \n",
            "__________________________________________________________________________________________________\n",
            "conv2d_388 (Conv2D)             (None, 56, 56, 128)  16384       concatenate_72[0][0]             \n",
            "__________________________________________________________________________________________________\n",
            "batch_normalization_388 (BatchN (None, 56, 56, 128)  384         conv2d_388[0][0]                 \n",
            "__________________________________________________________________________________________________\n",
            "lambda_72 (Lambda)              (None, 56, 56, 128)  0           activation_385[0][0]             \n",
            "                                                                 batch_normalization_388[0][0]    \n",
            "__________________________________________________________________________________________________\n",
            "activation_392 (Activation)     (None, 56, 56, 128)  0           lambda_72[0][0]                  \n",
            "__________________________________________________________________________________________________\n",
            "conv2d_392 (Conv2D)             (None, 56, 56, 32)   4096        activation_392[0][0]             \n",
            "__________________________________________________________________________________________________\n",
            "batch_normalization_392 (BatchN (None, 56, 56, 32)   96          conv2d_392[0][0]                 \n",
            "__________________________________________________________________________________________________\n",
            "activation_396 (Activation)     (None, 56, 56, 32)   0           batch_normalization_392[0][0]    \n",
            "__________________________________________________________________________________________________\n",
            "conv2d_390 (Conv2D)             (None, 56, 56, 32)   4096        activation_392[0][0]             \n",
            "__________________________________________________________________________________________________\n",
            "conv2d_393 (Conv2D)             (None, 56, 56, 48)   13824       activation_396[0][0]             \n",
            "__________________________________________________________________________________________________\n",
            "batch_normalization_390 (BatchN (None, 56, 56, 32)   96          conv2d_390[0][0]                 \n",
            "__________________________________________________________________________________________________\n",
            "batch_normalization_393 (BatchN (None, 56, 56, 48)   144         conv2d_393[0][0]                 \n",
            "__________________________________________________________________________________________________\n",
            "activation_394 (Activation)     (None, 56, 56, 32)   0           batch_normalization_390[0][0]    \n",
            "__________________________________________________________________________________________________\n",
            "activation_397 (Activation)     (None, 56, 56, 48)   0           batch_normalization_393[0][0]    \n",
            "__________________________________________________________________________________________________\n",
            "conv2d_389 (Conv2D)             (None, 56, 56, 32)   4096        activation_392[0][0]             \n",
            "__________________________________________________________________________________________________\n",
            "conv2d_391 (Conv2D)             (None, 56, 56, 32)   9216        activation_394[0][0]             \n",
            "__________________________________________________________________________________________________\n",
            "conv2d_394 (Conv2D)             (None, 56, 56, 64)   27648       activation_397[0][0]             \n",
            "__________________________________________________________________________________________________\n",
            "batch_normalization_389 (BatchN (None, 56, 56, 32)   96          conv2d_389[0][0]                 \n",
            "__________________________________________________________________________________________________\n",
            "batch_normalization_391 (BatchN (None, 56, 56, 32)   96          conv2d_391[0][0]                 \n",
            "__________________________________________________________________________________________________\n",
            "batch_normalization_394 (BatchN (None, 56, 56, 64)   192         conv2d_394[0][0]                 \n",
            "__________________________________________________________________________________________________\n",
            "activation_393 (Activation)     (None, 56, 56, 32)   0           batch_normalization_389[0][0]    \n",
            "__________________________________________________________________________________________________\n",
            "activation_395 (Activation)     (None, 56, 56, 32)   0           batch_normalization_391[0][0]    \n",
            "__________________________________________________________________________________________________\n",
            "activation_398 (Activation)     (None, 56, 56, 64)   0           batch_normalization_394[0][0]    \n",
            "__________________________________________________________________________________________________\n",
            "concatenate_73 (Concatenate)    (None, 56, 56, 128)  0           activation_393[0][0]             \n",
            "                                                                 activation_395[0][0]             \n",
            "                                                                 activation_398[0][0]             \n",
            "__________________________________________________________________________________________________\n",
            "conv2d_395 (Conv2D)             (None, 56, 56, 128)  16384       concatenate_73[0][0]             \n",
            "__________________________________________________________________________________________________\n",
            "batch_normalization_395 (BatchN (None, 56, 56, 128)  384         conv2d_395[0][0]                 \n",
            "__________________________________________________________________________________________________\n",
            "lambda_73 (Lambda)              (None, 56, 56, 128)  0           activation_392[0][0]             \n",
            "                                                                 batch_normalization_395[0][0]    \n",
            "__________________________________________________________________________________________________\n",
            "activation_399 (Activation)     (None, 56, 56, 128)  0           lambda_73[0][0]                  \n",
            "__________________________________________________________________________________________________\n",
            "block3_pool (MaxPooling2D)      (None, 28, 28, 128)  0           activation_399[0][0]             \n",
            "__________________________________________________________________________________________________\n",
            "block4_conv1_conv (Conv2D)      (None, 28, 28, 512)  589824      block3_pool[0][0]                \n",
            "__________________________________________________________________________________________________\n",
            "block4_conv1_bn (BatchNormaliza (None, 28, 28, 512)  1536        block4_conv1_conv[0][0]          \n",
            "__________________________________________________________________________________________________\n",
            "block4_conv1_act (Activation)   (None, 28, 28, 512)  0           block4_conv1_bn[0][0]            \n",
            "__________________________________________________________________________________________________\n",
            "block4_conv2_conv (Conv2D)      (None, 28, 28, 512)  2359296     block4_conv1_act[0][0]           \n",
            "__________________________________________________________________________________________________\n",
            "block4_conv2_bn (BatchNormaliza (None, 28, 28, 512)  1536        block4_conv2_conv[0][0]          \n",
            "__________________________________________________________________________________________________\n",
            "block4_conv2_act (Activation)   (None, 28, 28, 512)  0           block4_conv2_bn[0][0]            \n",
            "__________________________________________________________________________________________________\n",
            "block4_conv3_conv (Conv2D)      (None, 28, 28, 512)  2359296     block4_conv2_act[0][0]           \n",
            "__________________________________________________________________________________________________\n",
            "block4_conv3_bn (BatchNormaliza (None, 28, 28, 512)  1536        block4_conv3_conv[0][0]          \n",
            "__________________________________________________________________________________________________\n",
            "block4_conv3_act (Activation)   (None, 28, 28, 512)  0           block4_conv3_bn[0][0]            \n",
            "__________________________________________________________________________________________________\n",
            "block4_pool (MaxPooling2D)      (None, 14, 14, 512)  0           block4_conv3_act[0][0]           \n",
            "__________________________________________________________________________________________________\n",
            "conv2d_397 (Conv2D)             (None, 14, 14, 128)  65536       block4_pool[0][0]                \n",
            "__________________________________________________________________________________________________\n",
            "batch_normalization_397 (BatchN (None, 14, 14, 128)  384         conv2d_397[0][0]                 \n",
            "__________________________________________________________________________________________________\n",
            "activation_401 (Activation)     (None, 14, 14, 128)  0           batch_normalization_397[0][0]    \n",
            "__________________________________________________________________________________________________\n",
            "conv2d_398 (Conv2D)             (None, 14, 14, 160)  143360      activation_401[0][0]             \n",
            "__________________________________________________________________________________________________\n",
            "batch_normalization_398 (BatchN (None, 14, 14, 160)  480         conv2d_398[0][0]                 \n",
            "__________________________________________________________________________________________________\n",
            "activation_402 (Activation)     (None, 14, 14, 160)  0           batch_normalization_398[0][0]    \n",
            "__________________________________________________________________________________________________\n",
            "conv2d_396 (Conv2D)             (None, 14, 14, 192)  98304       block4_pool[0][0]                \n",
            "__________________________________________________________________________________________________\n",
            "conv2d_399 (Conv2D)             (None, 14, 14, 192)  215040      activation_402[0][0]             \n",
            "__________________________________________________________________________________________________\n",
            "batch_normalization_396 (BatchN (None, 14, 14, 192)  576         conv2d_396[0][0]                 \n",
            "__________________________________________________________________________________________________\n",
            "batch_normalization_399 (BatchN (None, 14, 14, 192)  576         conv2d_399[0][0]                 \n",
            "__________________________________________________________________________________________________\n",
            "activation_400 (Activation)     (None, 14, 14, 192)  0           batch_normalization_396[0][0]    \n",
            "__________________________________________________________________________________________________\n",
            "activation_403 (Activation)     (None, 14, 14, 192)  0           batch_normalization_399[0][0]    \n",
            "__________________________________________________________________________________________________\n",
            "concatenate_74 (Concatenate)    (None, 14, 14, 384)  0           activation_400[0][0]             \n",
            "                                                                 activation_403[0][0]             \n",
            "__________________________________________________________________________________________________\n",
            "conv2d_400 (Conv2D)             (None, 14, 14, 512)  196608      concatenate_74[0][0]             \n",
            "__________________________________________________________________________________________________\n",
            "batch_normalization_400 (BatchN (None, 14, 14, 512)  1536        conv2d_400[0][0]                 \n",
            "__________________________________________________________________________________________________\n",
            "lambda_74 (Lambda)              (None, 14, 14, 512)  0           block4_pool[0][0]                \n",
            "                                                                 batch_normalization_400[0][0]    \n",
            "__________________________________________________________________________________________________\n",
            "activation_404 (Activation)     (None, 14, 14, 512)  0           lambda_74[0][0]                  \n",
            "__________________________________________________________________________________________________\n",
            "conv2d_402 (Conv2D)             (None, 14, 14, 128)  65536       activation_404[0][0]             \n",
            "__________________________________________________________________________________________________\n",
            "batch_normalization_402 (BatchN (None, 14, 14, 128)  384         conv2d_402[0][0]                 \n",
            "__________________________________________________________________________________________________\n",
            "activation_406 (Activation)     (None, 14, 14, 128)  0           batch_normalization_402[0][0]    \n",
            "__________________________________________________________________________________________________\n",
            "conv2d_403 (Conv2D)             (None, 14, 14, 160)  143360      activation_406[0][0]             \n",
            "__________________________________________________________________________________________________\n",
            "batch_normalization_403 (BatchN (None, 14, 14, 160)  480         conv2d_403[0][0]                 \n",
            "__________________________________________________________________________________________________\n",
            "activation_407 (Activation)     (None, 14, 14, 160)  0           batch_normalization_403[0][0]    \n",
            "__________________________________________________________________________________________________\n",
            "conv2d_401 (Conv2D)             (None, 14, 14, 192)  98304       activation_404[0][0]             \n",
            "__________________________________________________________________________________________________\n",
            "conv2d_404 (Conv2D)             (None, 14, 14, 192)  215040      activation_407[0][0]             \n",
            "__________________________________________________________________________________________________\n",
            "batch_normalization_401 (BatchN (None, 14, 14, 192)  576         conv2d_401[0][0]                 \n",
            "__________________________________________________________________________________________________\n",
            "batch_normalization_404 (BatchN (None, 14, 14, 192)  576         conv2d_404[0][0]                 \n",
            "__________________________________________________________________________________________________\n",
            "activation_405 (Activation)     (None, 14, 14, 192)  0           batch_normalization_401[0][0]    \n",
            "__________________________________________________________________________________________________\n",
            "activation_408 (Activation)     (None, 14, 14, 192)  0           batch_normalization_404[0][0]    \n",
            "__________________________________________________________________________________________________\n",
            "concatenate_75 (Concatenate)    (None, 14, 14, 384)  0           activation_405[0][0]             \n",
            "                                                                 activation_408[0][0]             \n",
            "__________________________________________________________________________________________________\n",
            "conv2d_405 (Conv2D)             (None, 14, 14, 512)  196608      concatenate_75[0][0]             \n",
            "__________________________________________________________________________________________________\n",
            "batch_normalization_405 (BatchN (None, 14, 14, 512)  1536        conv2d_405[0][0]                 \n",
            "__________________________________________________________________________________________________\n",
            "lambda_75 (Lambda)              (None, 14, 14, 512)  0           activation_404[0][0]             \n",
            "                                                                 batch_normalization_405[0][0]    \n",
            "__________________________________________________________________________________________________\n",
            "activation_409 (Activation)     (None, 14, 14, 512)  0           lambda_75[0][0]                  \n",
            "__________________________________________________________________________________________________\n",
            "conv2d_407 (Conv2D)             (None, 14, 14, 128)  65536       activation_409[0][0]             \n",
            "__________________________________________________________________________________________________\n",
            "batch_normalization_407 (BatchN (None, 14, 14, 128)  384         conv2d_407[0][0]                 \n",
            "__________________________________________________________________________________________________\n",
            "activation_411 (Activation)     (None, 14, 14, 128)  0           batch_normalization_407[0][0]    \n",
            "__________________________________________________________________________________________________\n",
            "conv2d_408 (Conv2D)             (None, 14, 14, 160)  143360      activation_411[0][0]             \n",
            "__________________________________________________________________________________________________\n",
            "batch_normalization_408 (BatchN (None, 14, 14, 160)  480         conv2d_408[0][0]                 \n",
            "__________________________________________________________________________________________________\n",
            "activation_412 (Activation)     (None, 14, 14, 160)  0           batch_normalization_408[0][0]    \n",
            "__________________________________________________________________________________________________\n",
            "conv2d_406 (Conv2D)             (None, 14, 14, 192)  98304       activation_409[0][0]             \n",
            "__________________________________________________________________________________________________\n",
            "conv2d_409 (Conv2D)             (None, 14, 14, 192)  215040      activation_412[0][0]             \n",
            "__________________________________________________________________________________________________\n",
            "batch_normalization_406 (BatchN (None, 14, 14, 192)  576         conv2d_406[0][0]                 \n",
            "__________________________________________________________________________________________________\n",
            "batch_normalization_409 (BatchN (None, 14, 14, 192)  576         conv2d_409[0][0]                 \n",
            "__________________________________________________________________________________________________\n",
            "activation_410 (Activation)     (None, 14, 14, 192)  0           batch_normalization_406[0][0]    \n",
            "__________________________________________________________________________________________________\n",
            "activation_413 (Activation)     (None, 14, 14, 192)  0           batch_normalization_409[0][0]    \n",
            "__________________________________________________________________________________________________\n",
            "concatenate_76 (Concatenate)    (None, 14, 14, 384)  0           activation_410[0][0]             \n",
            "                                                                 activation_413[0][0]             \n",
            "__________________________________________________________________________________________________\n",
            "conv2d_410 (Conv2D)             (None, 14, 14, 512)  196608      concatenate_76[0][0]             \n",
            "__________________________________________________________________________________________________\n",
            "batch_normalization_410 (BatchN (None, 14, 14, 512)  1536        conv2d_410[0][0]                 \n",
            "__________________________________________________________________________________________________\n",
            "lambda_76 (Lambda)              (None, 14, 14, 512)  0           activation_409[0][0]             \n",
            "                                                                 batch_normalization_410[0][0]    \n",
            "__________________________________________________________________________________________________\n",
            "activation_414 (Activation)     (None, 14, 14, 512)  0           lambda_76[0][0]                  \n",
            "__________________________________________________________________________________________________\n",
            "block5_pool (MaxPooling2D)      (None, 7, 7, 512)    0           activation_414[0][0]             \n",
            "__________________________________________________________________________________________________\n",
            "global_max_pooling2d_10 (Global (None, 512)          0           block5_pool[0][0]                \n",
            "==================================================================================================\n",
            "Total params: 7,981,392\n",
            "Trainable params: 7,968,240\n",
            "Non-trainable params: 13,152\n",
            "__________________________________________________________________________________________________\n"
          ],
          "name": "stdout"
        }
      ]
    }
  ]
}