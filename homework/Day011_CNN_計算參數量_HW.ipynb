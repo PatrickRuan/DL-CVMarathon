{
  "nbformat": 4,
  "nbformat_minor": 0,
  "metadata": {
    "colab": {
      "name": "Day011_CNN-計算參數量_HW.ipynb",
      "provenance": [],
      "collapsed_sections": [],
      "include_colab_link": true
    },
    "kernelspec": {
      "display_name": "Python 3",
      "language": "python",
      "name": "python3"
    },
    "language_info": {
      "codemirror_mode": {
        "name": "ipython",
        "version": 3
      },
      "file_extension": ".py",
      "mimetype": "text/x-python",
      "name": "python",
      "nbconvert_exporter": "python",
      "pygments_lexer": "ipython3",
      "version": "3.6.7"
    }
  },
  "cells": [
    {
      "cell_type": "markdown",
      "metadata": {
        "id": "view-in-github",
        "colab_type": "text"
      },
      "source": [
        "<a href=\"https://colab.research.google.com/github/PatrickRuan/DL-CVMarathon/blob/master/homework/Day011_CNN_%E8%A8%88%E7%AE%97%E5%8F%83%E6%95%B8%E9%87%8F_HW.ipynb\" target=\"_parent\"><img src=\"https://colab.research.google.com/assets/colab-badge.svg\" alt=\"Open In Colab\"/></a>"
      ]
    },
    {
      "cell_type": "markdown",
      "metadata": {
        "id": "f6jN0Y8x4gNA"
      },
      "source": [
        "## 『本次練習內容』\n",
        "#### 運用Keras搭建簡單的Dense Layer與 Convolution2D Layer，使用相同Neurons數量，計算總參數量相差多少。\n"
      ]
    },
    {
      "cell_type": "markdown",
      "metadata": {
        "id": "KpUqzKhwVgFq"
      },
      "source": [
        "## 『本次練習目的』\n",
        "  #### 本次練習主要是要讓各位同學們了解CNN與FC層的參數使用量差異\n",
        "  #### Convolution2D有許多參數可以設置，之後章節會細談\n",
        "  #### 不熟Keras的學員們也可以藉此了解NN層的不同搭法"
      ]
    },
    {
      "cell_type": "code",
      "metadata": {
        "id": "SAFr7hM24gNB"
      },
      "source": [
        "from keras.models import Sequential, Model\n",
        "from keras.layers import Convolution2D, Input, Dense"
      ],
      "execution_count": 1,
      "outputs": []
    },
    {
      "cell_type": "code",
      "metadata": {
        "id": "Fp1XIcsyVgGE",
        "outputId": "8a3c9571-74a2-4c2e-e7ef-6c2f7b7932cb",
        "colab": {
          "base_uri": "https://localhost:8080/",
          "height": 449
        }
      },
      "source": [
        "##輸入照片尺寸==28*28*1\n",
        "##都用一層，288個神經元\n",
        "\n",
        "##建造一個一層的CNN層\n",
        "classifier=Sequential()\n",
        "\n",
        "##Kernel size 3*3，用32張，輸入大小28*28*1\n",
        "classifier.add(Convolution2D(32,(3,3), input_shape=(28,28,1), activation='relu')) #'''32張Kernel，大小為3*3，輸入尺寸為28*28*1'''\n",
        "##看看model結構\n",
        "print(classifier.summary())\n",
        "'''理解輸出Total params為何==320'''\n",
        "\n",
        "##建造一個一層的FC層\n",
        "##輸入為28*28*1攤平==784\n",
        "inputs = Input(shape = (784,)) #'''輸入尺寸為28*28*1'''\n",
        "##CNN中用了(3*3*1)*32個神經元，我們這邊也用相同神經元數量\n",
        "x=Dense(288)(inputs) #'''使用288個神經元'''\n",
        "model = Model(inputs=inputs, outputs=x)\n",
        "##看看model結構\n",
        "print(model.summary())\n",
        "'''理解輸出Total params為何==226080'''\n",
        "\n",
        "##大家可以自己變換設定看看參數變化"
      ],
      "execution_count": 2,
      "outputs": [
        {
          "output_type": "stream",
          "text": [
            "Model: \"sequential\"\n",
            "_________________________________________________________________\n",
            "Layer (type)                 Output Shape              Param #   \n",
            "=================================================================\n",
            "conv2d (Conv2D)              (None, 26, 26, 32)        320       \n",
            "=================================================================\n",
            "Total params: 320\n",
            "Trainable params: 320\n",
            "Non-trainable params: 0\n",
            "_________________________________________________________________\n",
            "None\n",
            "Model: \"functional_1\"\n",
            "_________________________________________________________________\n",
            "Layer (type)                 Output Shape              Param #   \n",
            "=================================================================\n",
            "input_1 (InputLayer)         [(None, 784)]             0         \n",
            "_________________________________________________________________\n",
            "dense (Dense)                (None, 288)               226080    \n",
            "=================================================================\n",
            "Total params: 226,080\n",
            "Trainable params: 226,080\n",
            "Non-trainable params: 0\n",
            "_________________________________________________________________\n",
            "None\n"
          ],
          "name": "stdout"
        },
        {
          "output_type": "execute_result",
          "data": {
            "application/vnd.google.colaboratory.intrinsic+json": {
              "type": "string"
            },
            "text/plain": [
              "'理解輸出Total params為何==226080'"
            ]
          },
          "metadata": {
            "tags": []
          },
          "execution_count": 2
        }
      ]
    },
    {
      "cell_type": "code",
      "metadata": {
        "id": "CKSK2m6HXUBk",
        "outputId": "799dcc9e-271d-41a0-dea3-95f1508b2869",
        "colab": {
          "base_uri": "https://localhost:8080/",
          "height": 51
        }
      },
      "source": [
        "print(1*3*3*32 +32)\n",
        "print(784*288+288)"
      ],
      "execution_count": 3,
      "outputs": [
        {
          "output_type": "stream",
          "text": [
            "320\n",
            "226080\n"
          ],
          "name": "stdout"
        }
      ]
    }
  ]
}