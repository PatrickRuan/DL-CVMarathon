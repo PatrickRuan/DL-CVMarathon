{
  "nbformat": 4,
  "nbformat_minor": 0,
  "metadata": {
    "kernelspec": {
      "display_name": "Python 3",
      "language": "python",
      "name": "python3"
    },
    "language_info": {
      "codemirror_mode": {
        "name": "ipython",
        "version": 3
      },
      "file_extension": ".py",
      "mimetype": "text/x-python",
      "name": "python",
      "nbconvert_exporter": "python",
      "pygments_lexer": "ipython3",
      "version": "3.6.7"
    },
    "colab": {
      "name": "Day015_Cifar_HW.ipynb",
      "provenance": [],
      "include_colab_link": true
    },
    "accelerator": "GPU"
  },
  "cells": [
    {
      "cell_type": "markdown",
      "metadata": {
        "id": "view-in-github",
        "colab_type": "text"
      },
      "source": [
        "<a href=\"https://colab.research.google.com/github/PatrickRuan/DL-CVMarathon/blob/master/homework/Day015_Cifar_HW.ipynb\" target=\"_parent\"><img src=\"https://colab.research.google.com/assets/colab-badge.svg\" alt=\"Open In Colab\"/></a>"
      ]
    },
    {
      "cell_type": "markdown",
      "metadata": {
        "id": "TjaGmXaPh4CA"
      },
      "source": [
        "## 『本次練習內容』\n",
        "#### 運用這幾天所學觀念搭建一個CNN分類器"
      ]
    },
    {
      "cell_type": "markdown",
      "metadata": {
        "id": "ewed0SiLh4CD"
      },
      "source": [
        "## 『本次練習目的』\n",
        "  #### 熟悉CNN分類器搭建步驟與原理\n",
        "  #### 學員們可以嘗試不同搭法，如使用不同的Maxpooling層，用GlobalAveragePooling取代Flatten等等"
      ]
    },
    {
      "cell_type": "code",
      "metadata": {
        "id": "avO48ZkPh4CE"
      },
      "source": [
        "from keras.models import Sequential\n",
        "from keras.layers import Convolution2D\n",
        "from keras.layers import MaxPooling2D\n",
        "from keras.layers import Flatten\n",
        "from keras.layers import Dense\n",
        "from keras.layers import Dropout\n",
        "from keras.layers import BatchNormalization\n",
        "from keras.datasets import cifar10\n",
        "import numpy as np\n",
        "import tensorflow as tf\n",
        "from sklearn.preprocessing import OneHotEncoder\n"
      ],
      "execution_count": 2,
      "outputs": []
    },
    {
      "cell_type": "code",
      "metadata": {
        "id": "P-7cvVEAh4CK",
        "outputId": "c94e8e05-e1e7-45ae-ab60-c90d2533e0d1",
        "colab": {
          "base_uri": "https://localhost:8080/",
          "height": 68
        }
      },
      "source": [
        "(x_train, y_train), (x_test, y_test) = cifar10.load_data()\n",
        "\n",
        "print(x_train.shape) #(50000, 32, 32, 3)\n",
        "\n",
        "## Normalize Data\n",
        "def normalize(X_train,X_test):\n",
        "        mean = np.mean(X_train,axis=(0,1,2,3))\n",
        "        std = np.std(X_train, axis=(0, 1, 2, 3))\n",
        "        X_train = (X_train-mean)/(std+1e-7)\n",
        "        X_test = (X_test-mean)/(std+1e-7) \n",
        "        return X_train, X_test,mean,std\n",
        "    \n",
        "    \n",
        "## Normalize Training and Testset    \n",
        "x_train, x_test,mean_train,std_train = normalize(x_train, x_test) "
      ],
      "execution_count": 3,
      "outputs": [
        {
          "output_type": "stream",
          "text": [
            "Downloading data from https://www.cs.toronto.edu/~kriz/cifar-10-python.tar.gz\n",
            "170500096/170498071 [==============================] - 6s 0us/step\n",
            "(50000, 32, 32, 3)\n"
          ],
          "name": "stdout"
        }
      ]
    },
    {
      "cell_type": "code",
      "metadata": {
        "id": "tUQy8rAGh4CS"
      },
      "source": [
        "## OneHot Label 由(None, 1)-(None, 10)\n",
        "## ex. label=2,變成[0,0,1,0,0,0,0,0,0,0]\n",
        "one_hot=OneHotEncoder()\n",
        "y_train=one_hot.fit_transform(y_train).toarray()\n",
        "y_test=one_hot.transform(y_test).toarray()"
      ],
      "execution_count": 4,
      "outputs": []
    },
    {
      "cell_type": "code",
      "metadata": {
        "id": "QzOFOPQdh4CV",
        "outputId": "52b6a3df-abdb-4541-ddb1-f63f9c81abb5",
        "colab": {
          "base_uri": "https://localhost:8080/",
          "height": 1000
        }
      },
      "source": [
        "\n",
        "classifier=Sequential()\n",
        "\n",
        "#卷積組合\n",
        "classifier.add(Convolution2D(32,(3,3),input_shape = (32,32,3), activation = 'relu'))#32,3,3,input_shape=(32,32,3),activation='relu''\n",
        "classifier.add(BatchNormalization())\n",
        "classifier.add(MaxPooling2D(pool_size=(2,2)))\n",
        "\n",
        "#卷積組合\n",
        "classifier.add(Convolution2D(64,(3,3),activation='relu'))\n",
        "classifier.add(BatchNormalization())\n",
        "\n",
        "classifier.add(Flatten())\n",
        "\n",
        "classifier.add(Dense(128,activation='relu')) #output_dim=100,activation=relu\n",
        "\n",
        "#輸出\n",
        "classifier.add(Dense(10,activation='softmax'))\n",
        "\n",
        "#超過兩個就要選categorical_crossentrophy\n",
        "classifier.compile(optimizer = 'adam', loss = 'categorical_crossentropy', metrics = ['accuracy'])\n",
        "history = classifier.fit(x_train,y_train,batch_size=100,epochs=100, validation_split = 0.2, verbose=2)"
      ],
      "execution_count": 6,
      "outputs": [
        {
          "output_type": "stream",
          "text": [
            "Epoch 1/100\n",
            "400/400 - 2s - loss: 1.4924 - accuracy: 0.5330 - val_loss: 1.4102 - val_accuracy: 0.5149\n",
            "Epoch 2/100\n",
            "400/400 - 2s - loss: 0.7827 - accuracy: 0.7283 - val_loss: 1.0242 - val_accuracy: 0.6557\n",
            "Epoch 3/100\n",
            "400/400 - 2s - loss: 0.4668 - accuracy: 0.8385 - val_loss: 1.1323 - val_accuracy: 0.6530\n",
            "Epoch 4/100\n",
            "400/400 - 2s - loss: 0.2568 - accuracy: 0.9121 - val_loss: 1.3674 - val_accuracy: 0.6536\n",
            "Epoch 5/100\n",
            "400/400 - 2s - loss: 0.1444 - accuracy: 0.9525 - val_loss: 1.4291 - val_accuracy: 0.6634\n",
            "Epoch 6/100\n",
            "400/400 - 2s - loss: 0.1243 - accuracy: 0.9578 - val_loss: 1.6449 - val_accuracy: 0.6634\n",
            "Epoch 7/100\n",
            "400/400 - 2s - loss: 0.1140 - accuracy: 0.9618 - val_loss: 1.8878 - val_accuracy: 0.6419\n",
            "Epoch 8/100\n",
            "400/400 - 2s - loss: 0.1261 - accuracy: 0.9577 - val_loss: 1.8046 - val_accuracy: 0.6480\n",
            "Epoch 9/100\n",
            "400/400 - 2s - loss: 0.1051 - accuracy: 0.9649 - val_loss: 2.0826 - val_accuracy: 0.6573\n",
            "Epoch 10/100\n",
            "400/400 - 2s - loss: 0.0762 - accuracy: 0.9741 - val_loss: 2.0379 - val_accuracy: 0.6615\n",
            "Epoch 11/100\n",
            "400/400 - 2s - loss: 0.0640 - accuracy: 0.9779 - val_loss: 2.2461 - val_accuracy: 0.6560\n",
            "Epoch 12/100\n",
            "400/400 - 2s - loss: 0.0651 - accuracy: 0.9779 - val_loss: 2.1523 - val_accuracy: 0.6714\n",
            "Epoch 13/100\n",
            "400/400 - 2s - loss: 0.0685 - accuracy: 0.9771 - val_loss: 2.1152 - val_accuracy: 0.6549\n",
            "Epoch 14/100\n",
            "400/400 - 2s - loss: 0.0660 - accuracy: 0.9782 - val_loss: 2.4662 - val_accuracy: 0.6608\n",
            "Epoch 15/100\n",
            "400/400 - 2s - loss: 0.0701 - accuracy: 0.9770 - val_loss: 2.4680 - val_accuracy: 0.6622\n",
            "Epoch 16/100\n",
            "400/400 - 2s - loss: 0.0540 - accuracy: 0.9817 - val_loss: 2.4092 - val_accuracy: 0.6630\n",
            "Epoch 17/100\n",
            "400/400 - 2s - loss: 0.0494 - accuracy: 0.9840 - val_loss: 2.6978 - val_accuracy: 0.6543\n",
            "Epoch 18/100\n",
            "400/400 - 2s - loss: 0.0480 - accuracy: 0.9840 - val_loss: 2.5151 - val_accuracy: 0.6728\n",
            "Epoch 19/100\n",
            "400/400 - 2s - loss: 0.0437 - accuracy: 0.9859 - val_loss: 2.6979 - val_accuracy: 0.6577\n",
            "Epoch 20/100\n",
            "400/400 - 2s - loss: 0.0501 - accuracy: 0.9830 - val_loss: 2.6530 - val_accuracy: 0.6586\n",
            "Epoch 21/100\n",
            "400/400 - 2s - loss: 0.0502 - accuracy: 0.9843 - val_loss: 2.6587 - val_accuracy: 0.6730\n",
            "Epoch 22/100\n",
            "400/400 - 2s - loss: 0.0398 - accuracy: 0.9870 - val_loss: 2.6645 - val_accuracy: 0.6619\n",
            "Epoch 23/100\n",
            "400/400 - 2s - loss: 0.0425 - accuracy: 0.9862 - val_loss: 2.7497 - val_accuracy: 0.6665\n",
            "Epoch 24/100\n",
            "400/400 - 2s - loss: 0.0327 - accuracy: 0.9890 - val_loss: 2.8477 - val_accuracy: 0.6588\n",
            "Epoch 25/100\n",
            "400/400 - 2s - loss: 0.0429 - accuracy: 0.9869 - val_loss: 3.1257 - val_accuracy: 0.6553\n",
            "Epoch 26/100\n",
            "400/400 - 2s - loss: 0.0430 - accuracy: 0.9868 - val_loss: 2.7704 - val_accuracy: 0.6618\n",
            "Epoch 27/100\n",
            "400/400 - 2s - loss: 0.0361 - accuracy: 0.9881 - val_loss: 3.0546 - val_accuracy: 0.6670\n",
            "Epoch 28/100\n",
            "400/400 - 2s - loss: 0.0329 - accuracy: 0.9894 - val_loss: 3.2142 - val_accuracy: 0.6575\n",
            "Epoch 29/100\n",
            "400/400 - 2s - loss: 0.0290 - accuracy: 0.9907 - val_loss: 3.0287 - val_accuracy: 0.6638\n",
            "Epoch 30/100\n",
            "400/400 - 2s - loss: 0.0277 - accuracy: 0.9911 - val_loss: 2.9057 - val_accuracy: 0.6624\n",
            "Epoch 31/100\n",
            "400/400 - 2s - loss: 0.0269 - accuracy: 0.9915 - val_loss: 3.3426 - val_accuracy: 0.6664\n",
            "Epoch 32/100\n",
            "400/400 - 2s - loss: 0.0465 - accuracy: 0.9857 - val_loss: 3.3909 - val_accuracy: 0.6585\n",
            "Epoch 33/100\n",
            "400/400 - 2s - loss: 0.0376 - accuracy: 0.9887 - val_loss: 3.2179 - val_accuracy: 0.6640\n",
            "Epoch 34/100\n",
            "400/400 - 2s - loss: 0.0286 - accuracy: 0.9908 - val_loss: 3.1309 - val_accuracy: 0.6682\n",
            "Epoch 35/100\n",
            "400/400 - 2s - loss: 0.0297 - accuracy: 0.9911 - val_loss: 3.0742 - val_accuracy: 0.6626\n",
            "Epoch 36/100\n",
            "400/400 - 2s - loss: 0.0208 - accuracy: 0.9929 - val_loss: 3.4368 - val_accuracy: 0.6653\n",
            "Epoch 37/100\n",
            "400/400 - 2s - loss: 0.0241 - accuracy: 0.9923 - val_loss: 3.4357 - val_accuracy: 0.6497\n",
            "Epoch 38/100\n",
            "400/400 - 2s - loss: 0.0215 - accuracy: 0.9925 - val_loss: 3.4382 - val_accuracy: 0.6592\n",
            "Epoch 39/100\n",
            "400/400 - 2s - loss: 0.0275 - accuracy: 0.9914 - val_loss: 3.3670 - val_accuracy: 0.6604\n",
            "Epoch 40/100\n",
            "400/400 - 2s - loss: 0.0315 - accuracy: 0.9905 - val_loss: 3.1881 - val_accuracy: 0.6599\n",
            "Epoch 41/100\n",
            "400/400 - 2s - loss: 0.0301 - accuracy: 0.9906 - val_loss: 3.5958 - val_accuracy: 0.6551\n",
            "Epoch 42/100\n",
            "400/400 - 2s - loss: 0.0242 - accuracy: 0.9923 - val_loss: 3.2009 - val_accuracy: 0.6695\n",
            "Epoch 43/100\n",
            "400/400 - 2s - loss: 0.0225 - accuracy: 0.9931 - val_loss: 3.4711 - val_accuracy: 0.6605\n",
            "Epoch 44/100\n",
            "400/400 - 2s - loss: 0.0244 - accuracy: 0.9921 - val_loss: 3.5837 - val_accuracy: 0.6600\n",
            "Epoch 45/100\n",
            "400/400 - 2s - loss: 0.0268 - accuracy: 0.9917 - val_loss: 3.5928 - val_accuracy: 0.6685\n",
            "Epoch 46/100\n",
            "400/400 - 2s - loss: 0.0214 - accuracy: 0.9934 - val_loss: 3.9642 - val_accuracy: 0.6697\n",
            "Epoch 47/100\n",
            "400/400 - 2s - loss: 0.0217 - accuracy: 0.9937 - val_loss: 3.5586 - val_accuracy: 0.6707\n",
            "Epoch 48/100\n",
            "400/400 - 2s - loss: 0.0231 - accuracy: 0.9930 - val_loss: 3.5666 - val_accuracy: 0.6692\n",
            "Epoch 49/100\n",
            "400/400 - 2s - loss: 0.0164 - accuracy: 0.9942 - val_loss: 3.7920 - val_accuracy: 0.6640\n",
            "Epoch 50/100\n",
            "400/400 - 2s - loss: 0.0156 - accuracy: 0.9954 - val_loss: 3.6585 - val_accuracy: 0.6670\n",
            "Epoch 51/100\n",
            "400/400 - 2s - loss: 0.0208 - accuracy: 0.9938 - val_loss: 3.9601 - val_accuracy: 0.6613\n",
            "Epoch 52/100\n",
            "400/400 - 2s - loss: 0.0288 - accuracy: 0.9911 - val_loss: 3.7953 - val_accuracy: 0.6634\n",
            "Epoch 53/100\n",
            "400/400 - 2s - loss: 0.0234 - accuracy: 0.9929 - val_loss: 3.7063 - val_accuracy: 0.6649\n",
            "Epoch 54/100\n",
            "400/400 - 2s - loss: 0.0121 - accuracy: 0.9961 - val_loss: 3.6488 - val_accuracy: 0.6699\n",
            "Epoch 55/100\n",
            "400/400 - 2s - loss: 0.0221 - accuracy: 0.9934 - val_loss: 3.9199 - val_accuracy: 0.6626\n",
            "Epoch 56/100\n",
            "400/400 - 2s - loss: 0.0216 - accuracy: 0.9931 - val_loss: 3.6263 - val_accuracy: 0.6607\n",
            "Epoch 57/100\n",
            "400/400 - 2s - loss: 0.0103 - accuracy: 0.9966 - val_loss: 3.8790 - val_accuracy: 0.6709\n",
            "Epoch 58/100\n",
            "400/400 - 2s - loss: 0.0204 - accuracy: 0.9935 - val_loss: 3.9959 - val_accuracy: 0.6626\n",
            "Epoch 59/100\n",
            "400/400 - 2s - loss: 0.0197 - accuracy: 0.9938 - val_loss: 3.8356 - val_accuracy: 0.6594\n",
            "Epoch 60/100\n",
            "400/400 - 2s - loss: 0.0166 - accuracy: 0.9949 - val_loss: 3.9397 - val_accuracy: 0.6624\n",
            "Epoch 61/100\n",
            "400/400 - 2s - loss: 0.0164 - accuracy: 0.9944 - val_loss: 4.2038 - val_accuracy: 0.6575\n",
            "Epoch 62/100\n",
            "400/400 - 2s - loss: 0.0190 - accuracy: 0.9941 - val_loss: 4.1969 - val_accuracy: 0.6594\n",
            "Epoch 63/100\n",
            "400/400 - 2s - loss: 0.0199 - accuracy: 0.9948 - val_loss: 4.0444 - val_accuracy: 0.6595\n",
            "Epoch 64/100\n",
            "400/400 - 2s - loss: 0.0135 - accuracy: 0.9961 - val_loss: 4.1657 - val_accuracy: 0.6574\n",
            "Epoch 65/100\n",
            "400/400 - 2s - loss: 0.0129 - accuracy: 0.9966 - val_loss: 4.3600 - val_accuracy: 0.6644\n",
            "Epoch 66/100\n",
            "400/400 - 2s - loss: 0.0172 - accuracy: 0.9948 - val_loss: 4.3994 - val_accuracy: 0.6602\n",
            "Epoch 67/100\n",
            "400/400 - 2s - loss: 0.0212 - accuracy: 0.9942 - val_loss: 4.3819 - val_accuracy: 0.6520\n",
            "Epoch 68/100\n",
            "400/400 - 2s - loss: 0.0148 - accuracy: 0.9959 - val_loss: 4.2676 - val_accuracy: 0.6665\n",
            "Epoch 69/100\n",
            "400/400 - 2s - loss: 0.0151 - accuracy: 0.9956 - val_loss: 3.8638 - val_accuracy: 0.6569\n",
            "Epoch 70/100\n",
            "400/400 - 2s - loss: 0.0131 - accuracy: 0.9964 - val_loss: 4.0833 - val_accuracy: 0.6628\n",
            "Epoch 71/100\n",
            "400/400 - 2s - loss: 0.0227 - accuracy: 0.9933 - val_loss: 4.4523 - val_accuracy: 0.6573\n",
            "Epoch 72/100\n",
            "400/400 - 2s - loss: 0.0220 - accuracy: 0.9938 - val_loss: 4.2808 - val_accuracy: 0.6553\n",
            "Epoch 73/100\n",
            "400/400 - 2s - loss: 0.0146 - accuracy: 0.9959 - val_loss: 4.7750 - val_accuracy: 0.6600\n",
            "Epoch 74/100\n",
            "400/400 - 2s - loss: 0.0110 - accuracy: 0.9969 - val_loss: 4.3371 - val_accuracy: 0.6624\n",
            "Epoch 75/100\n",
            "400/400 - 2s - loss: 0.0083 - accuracy: 0.9976 - val_loss: 4.4293 - val_accuracy: 0.6583\n",
            "Epoch 76/100\n",
            "400/400 - 2s - loss: 0.0158 - accuracy: 0.9954 - val_loss: 4.4242 - val_accuracy: 0.6658\n",
            "Epoch 77/100\n",
            "400/400 - 2s - loss: 0.0213 - accuracy: 0.9944 - val_loss: 4.1342 - val_accuracy: 0.6637\n",
            "Epoch 78/100\n",
            "400/400 - 2s - loss: 0.0186 - accuracy: 0.9947 - val_loss: 4.6968 - val_accuracy: 0.6559\n",
            "Epoch 79/100\n",
            "400/400 - 2s - loss: 0.0181 - accuracy: 0.9947 - val_loss: 4.3701 - val_accuracy: 0.6613\n",
            "Epoch 80/100\n",
            "400/400 - 2s - loss: 0.0123 - accuracy: 0.9967 - val_loss: 4.4385 - val_accuracy: 0.6681\n",
            "Epoch 81/100\n",
            "400/400 - 2s - loss: 0.0111 - accuracy: 0.9971 - val_loss: 4.6124 - val_accuracy: 0.6657\n",
            "Epoch 82/100\n",
            "400/400 - 2s - loss: 0.0106 - accuracy: 0.9969 - val_loss: 4.3367 - val_accuracy: 0.6718\n",
            "Epoch 83/100\n",
            "400/400 - 2s - loss: 0.0064 - accuracy: 0.9980 - val_loss: 4.6590 - val_accuracy: 0.6647\n",
            "Epoch 84/100\n",
            "400/400 - 2s - loss: 0.0153 - accuracy: 0.9952 - val_loss: 4.4423 - val_accuracy: 0.6627\n",
            "Epoch 85/100\n",
            "400/400 - 2s - loss: 0.0217 - accuracy: 0.9938 - val_loss: 4.7455 - val_accuracy: 0.6612\n",
            "Epoch 86/100\n",
            "400/400 - 2s - loss: 0.0172 - accuracy: 0.9954 - val_loss: 4.5561 - val_accuracy: 0.6542\n",
            "Epoch 87/100\n",
            "400/400 - 2s - loss: 0.0150 - accuracy: 0.9956 - val_loss: 4.4269 - val_accuracy: 0.6662\n",
            "Epoch 88/100\n",
            "400/400 - 2s - loss: 0.0108 - accuracy: 0.9973 - val_loss: 4.6143 - val_accuracy: 0.6695\n",
            "Epoch 89/100\n",
            "400/400 - 2s - loss: 0.0130 - accuracy: 0.9968 - val_loss: 4.2414 - val_accuracy: 0.6571\n",
            "Epoch 90/100\n",
            "400/400 - 2s - loss: 0.0100 - accuracy: 0.9970 - val_loss: 4.9966 - val_accuracy: 0.6622\n",
            "Epoch 91/100\n",
            "400/400 - 2s - loss: 0.0139 - accuracy: 0.9963 - val_loss: 4.6707 - val_accuracy: 0.6637\n",
            "Epoch 92/100\n",
            "400/400 - 2s - loss: 0.0128 - accuracy: 0.9960 - val_loss: 4.6952 - val_accuracy: 0.6625\n",
            "Epoch 93/100\n",
            "400/400 - 2s - loss: 0.0150 - accuracy: 0.9958 - val_loss: 4.9836 - val_accuracy: 0.6625\n",
            "Epoch 94/100\n",
            "400/400 - 2s - loss: 0.0142 - accuracy: 0.9963 - val_loss: 4.7976 - val_accuracy: 0.6608\n",
            "Epoch 95/100\n",
            "400/400 - 2s - loss: 0.0138 - accuracy: 0.9961 - val_loss: 4.9231 - val_accuracy: 0.6540\n",
            "Epoch 96/100\n",
            "400/400 - 2s - loss: 0.0124 - accuracy: 0.9967 - val_loss: 4.8306 - val_accuracy: 0.6660\n",
            "Epoch 97/100\n",
            "400/400 - 2s - loss: 0.0143 - accuracy: 0.9963 - val_loss: 4.7264 - val_accuracy: 0.6625\n",
            "Epoch 98/100\n",
            "400/400 - 2s - loss: 0.0107 - accuracy: 0.9969 - val_loss: 5.0310 - val_accuracy: 0.6554\n",
            "Epoch 99/100\n",
            "400/400 - 2s - loss: 0.0122 - accuracy: 0.9967 - val_loss: 4.5845 - val_accuracy: 0.6612\n",
            "Epoch 100/100\n",
            "400/400 - 2s - loss: 0.0135 - accuracy: 0.9958 - val_loss: 4.7280 - val_accuracy: 0.6528\n"
          ],
          "name": "stdout"
        }
      ]
    },
    {
      "cell_type": "code",
      "metadata": {
        "id": "lzNBBwGVjAfX",
        "outputId": "f8b591dd-51c6-4713-9b91-284b2483124c",
        "colab": {
          "base_uri": "https://localhost:8080/",
          "height": 513
        }
      },
      "source": [
        "history.history['accuracy']\n",
        "history.history['loss']\n",
        "history.history['val_accuracy']\n",
        "history.history['val_loss']\n",
        "import matplotlib.pyplot as plt\n",
        "plt.plot(range(100), history.history['accuracy'], label='train')\n",
        "plt.plot(range(100), history.history['val_accuracy'], label='val')\n",
        "plt.legend(loc=2)\n",
        "plt.show()\n",
        "\n",
        "plt.plot(range(100), history.history['loss'], label='train')\n",
        "plt.plot(range(100), history.history['val_loss'],label='validation')\n",
        "plt.legend(loc=2)\n",
        "plt.show()\n",
        "\n"
      ],
      "execution_count": 18,
      "outputs": [
        {
          "output_type": "display_data",
          "data": {
            "image/png": "[encoded data removed]",
            "text/plain": [
              "<Figure size 432x288 with 1 Axes>"
            ]
          },
          "metadata": {
            "tags": [],
            "needs_background": "light"
          }
        },
        {
          "output_type": "display_data",
          "data": {
            "image/png": "[encoded data removed]",
            "text/plain": [
              "<Figure size 432x288 with 1 Axes>"
            ]
          },
          "metadata": {
            "tags": [],
            "needs_background": "light"
          }
        }
      ]
    },
    {
      "cell_type": "markdown",
      "metadata": {
        "id": "kku49KJxh4CY"
      },
      "source": [
        "## 預測新圖片，輸入影像前處理要與訓練時相同\n",
        "#### ((X-mean)/(std+1e-7) ):這裡的mean跟std是訓練集的\n",
        "## 維度如下方示範"
      ]
    },
    {
      "cell_type": "code",
      "metadata": {
        "id": "U-58LWsjh4CY",
        "outputId": "b2adaaa1-c187-4632-a4d4-659bb73e441a",
        "colab": {
          "base_uri": "https://localhost:8080/",
          "height": 68
        }
      },
      "source": [
        "input_example=(np.zeros(shape=(1,32,32,3))-mean_train)/(std_train+1e-7) \n",
        "classifier.predict(input_example)"
      ],
      "execution_count": 19,
      "outputs": [
        {
          "output_type": "execute_result",
          "data": {
            "text/plain": [
              "array([[4.9977700e-07, 1.2765700e-17, 9.5997071e-01, 6.1924591e-05,\n",
              "        3.9965566e-02, 7.0593705e-23, 3.2188241e-09, 1.3263622e-06,\n",
              "        5.8759095e-09, 9.1964489e-23]], dtype=float32)"
            ]
          },
          "metadata": {
            "tags": []
          },
          "execution_count": 19
        }
      ]
    }
  ]
}