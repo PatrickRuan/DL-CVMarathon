{
  "nbformat": 4,
  "nbformat_minor": 0,
  "metadata": {
    "kernelspec": {
      "display_name": "Python 3",
      "language": "python",
      "name": "python3"
    },
    "language_info": {
      "codemirror_mode": {
        "name": "ipython",
        "version": 3
      },
      "file_extension": ".py",
      "mimetype": "text/x-python",
      "name": "python",
      "nbconvert_exporter": "python",
      "pygments_lexer": "ipython3",
      "version": "3.5.4"
    },
    "colab": {
      "name": "Day046_MobileNet_HW.ipynb",
      "provenance": [],
      "include_colab_link": true
    }
  },
  "cells": [
    {
      "cell_type": "markdown",
      "metadata": {
        "id": "view-in-github",
        "colab_type": "text"
      },
      "source": [
        "<a href=\"https://colab.research.google.com/github/PatrickRuan/DL-CVMarathon/blob/master/homework/Day046_MobileNet_HW.ipynb\" target=\"_parent\"><img src=\"https://colab.research.google.com/assets/colab-badge.svg\" alt=\"Open In Colab\"/></a>"
      ]
    },
    {
      "cell_type": "markdown",
      "metadata": {
        "id": "-FRvDB_SxZYm"
      },
      "source": [
        "# 作業"
      ]
    },
    {
      "cell_type": "markdown",
      "metadata": {
        "id": "2T81c83RxZYn"
      },
      "source": [
        "### 嘗試用 keras 的 DepthwiseConv2D 等 layers 實做 Separable Convolution.\n",
        "   - depthwise's filter shape 爲 (3,3), padding = same\n",
        "   - pointwise's filters size 爲 128\n",
        "   - 不需要給 alpha, depth multiplier 參數"
      ]
    },
    {
      "cell_type": "markdown",
      "metadata": {
        "id": "KdazOJvsxZYo"
      },
      "source": [
        "##### 載入套件"
      ]
    },
    {
      "cell_type": "code",
      "metadata": {
        "id": "bM8vIxISxZYp"
      },
      "source": [
        "from keras.models import Input, Model\n",
        "from keras.layers import DepthwiseConv2D, Conv2D, BatchNormalization, ReLU"
      ],
      "execution_count": 1,
      "outputs": []
    },
    {
      "cell_type": "markdown",
      "metadata": {
        "id": "8zd7Wb47xZYs"
      },
      "source": [
        "##### 定義 Separable Convolution 函數 (請在此實做)"
      ]
    },
    {
      "cell_type": "code",
      "metadata": {
        "id": "EAXoyf9kxZYt"
      },
      "source": [
        "def SeparableConv(input):\n",
        "  # all follows CBA\n",
        "  x = DepthwiseConv2D((3,3), padding='same')(input)\n",
        "  x = BatchNormalization()(x)\n",
        "  x = ReLU()(x)\n",
        "  x = Conv2D(128,(1,1))(x)\n",
        "  x = BatchNormalization()(x)\n",
        "  x = ReLU()(x)\n",
        "  return x"
      ],
      "execution_count": 7,
      "outputs": []
    },
    {
      "cell_type": "markdown",
      "metadata": {
        "id": "nkZE2QkaxZYy"
      },
      "source": [
        "##### 建構模型"
      ]
    },
    {
      "cell_type": "code",
      "metadata": {
        "id": "BNSTpQf-xZYy",
        "outputId": "94419aa8-644b-4364-da31-073bd97f3d97",
        "colab": {
          "base_uri": "https://localhost:8080/",
          "height": 397
        }
      },
      "source": [
        "input = Input((64, 64, 3))\n",
        "output = SeparableConv(input)\n",
        "model = Model(inputs=input, outputs=output)\n",
        "model.summary()"
      ],
      "execution_count": 8,
      "outputs": [
        {
          "output_type": "stream",
          "text": [
            "Model: \"functional_1\"\n",
            "_________________________________________________________________\n",
            "Layer (type)                 Output Shape              Param #   \n",
            "=================================================================\n",
            "input_3 (InputLayer)         [(None, 64, 64, 3)]       0         \n",
            "_________________________________________________________________\n",
            "depthwise_conv2d_1 (Depthwis (None, 64, 64, 3)         30        \n",
            "_________________________________________________________________\n",
            "batch_normalization_1 (Batch (None, 64, 64, 3)         12        \n",
            "_________________________________________________________________\n",
            "re_lu (ReLU)                 (None, 64, 64, 3)         0         \n",
            "_________________________________________________________________\n",
            "conv2d (Conv2D)              (None, 64, 64, 128)       512       \n",
            "_________________________________________________________________\n",
            "batch_normalization_2 (Batch (None, 64, 64, 128)       512       \n",
            "_________________________________________________________________\n",
            "re_lu_1 (ReLU)               (None, 64, 64, 128)       0         \n",
            "=================================================================\n",
            "Total params: 1,066\n",
            "Trainable params: 804\n",
            "Non-trainable params: 262\n",
            "_________________________________________________________________\n"
          ],
          "name": "stdout"
        }
      ]
    },
    {
      "cell_type": "code",
      "metadata": {
        "id": "VJdHFsGqxZY2"
      },
      "source": [
        ""
      ],
      "execution_count": null,
      "outputs": []
    }
  ]
}