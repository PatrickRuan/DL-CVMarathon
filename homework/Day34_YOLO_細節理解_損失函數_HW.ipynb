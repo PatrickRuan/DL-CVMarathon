{
  "nbformat": 4,
  "nbformat_minor": 0,
  "metadata": {
    "kernelspec": {
      "display_name": "Python 3",
      "language": "python",
      "name": "python3"
    },
    "language_info": {
      "codemirror_mode": {
        "name": "ipython",
        "version": 3
      },
      "file_extension": ".py",
      "mimetype": "text/x-python",
      "name": "python",
      "nbconvert_exporter": "python",
      "pygments_lexer": "ipython3",
      "version": "3.6.1"
    },
    "colab": {
      "name": "Day34.YOLO 細節理解 - 損失函數_HW.ipynb",
      "provenance": [],
      "include_colab_link": true
    }
  },
  "cells": [
    {
      "cell_type": "markdown",
      "metadata": {
        "id": "view-in-github",
        "colab_type": "text"
      },
      "source": [
        "<a href=\"https://colab.research.google.com/github/PatrickRuan/DL-CVMarathon/blob/master/homework/Day34_YOLO_%E7%B4%B0%E7%AF%80%E7%90%86%E8%A7%A3_%E6%90%8D%E5%A4%B1%E5%87%BD%E6%95%B8_HW.ipynb\" target=\"_parent\"><img src=\"https://colab.research.google.com/assets/colab-badge.svg\" alt=\"Open In Colab\"/></a>"
      ]
    },
    {
      "cell_type": "markdown",
      "metadata": {
        "id": "Bnmm4e85ZBf2"
      },
      "source": [
        "## Day34.YOLO 細節理解 - 損失函數\n",
        "今天的課程，我們講述了\n",
        "* 損失函數是描述模型預測出來的結果和實際的差異的依據    \n",
        "* YOLO 損失函數的設計包含物件位置的定位與物件類別辨識    \n",
        "* YOLO損失函數透過超參數設定模型有不同的辨識能力    \n",
        "\n"
      ]
    },
    {
      "cell_type": "markdown",
      "metadata": {
        "id": "exUoZwe5ZBf9"
      },
      "source": [
        "### 作業\n",
        "仔細觀察，bbox 寬高計算損失方式和bbox中心計算損失方式有哪邊不一樣嗎? 為什麼要有不同的設計?\n",
        "![title](loss function.png)\n",
        "\n"
      ]
    },
    {
      "cell_type": "code",
      "metadata": {
        "id": "8rmQogtPZBf_",
        "outputId": "3259b864-defa-4325-cf44-b0a269d6f1dc",
        "colab": {
          "base_uri": "https://localhost:8080/",
          "height": 34
        }
      },
      "source": [
        "'''\n",
        "如果先不取開根號值，寬高對於物件大小的影響有不太公平強度，我們想要貼近多一點比較合理的比例影響，所以先將寬高開根號。\n",
        "不開根號；\n",
        "  同樣誤差 10 對於寬高大約 10 的物件可能相對影響大，去學習時太強，可能少了細緻\n",
        "  同樣誤差 10 對於寬高大約 100 的物件可能相對影響大，去學習時感覺沒有向對寬高10 的那樣比例學習\n",
        "\n",
        "\n",
        "'''"
      ],
      "execution_count": null,
      "outputs": [
        {
          "output_type": "execute_result",
          "data": {
            "text/plain": [
              "'\\n你的答案\\n'"
            ]
          },
          "metadata": {
            "tags": []
          },
          "execution_count": 1
        }
      ]
    }
  ]
}