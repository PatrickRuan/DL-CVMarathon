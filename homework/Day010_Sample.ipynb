{
  "nbformat": 4,
  "nbformat_minor": 0,
  "metadata": {
    "kernelspec": {
      "display_name": "Python 3",
      "language": "python",
      "name": "python3"
    },
    "language_info": {
      "codemirror_mode": {
        "name": "ipython",
        "version": 3
      },
      "file_extension": ".py",
      "mimetype": "text/x-python",
      "name": "python",
      "nbconvert_exporter": "python",
      "pygments_lexer": "ipython3",
      "version": "3.6.8"
    },
    "colab": {
      "name": "Day010_Sample.ipynb",
      "provenance": [],
      "include_colab_link": true
    }
  },
  "cells": [
    {
      "cell_type": "markdown",
      "metadata": {
        "id": "view-in-github",
        "colab_type": "text"
      },
      "source": [
        "<a href=\"https://colab.research.google.com/github/PatrickRuan/DL-CVMarathon/blob/master/homework/Day010_Sample.ipynb\" target=\"_parent\"><img src=\"https://colab.research.google.com/assets/colab-badge.svg\" alt=\"Open In Colab\"/></a>"
      ]
    },
    {
      "cell_type": "markdown",
      "metadata": {
        "id": "AwJ_2u2XRiR3"
      },
      "source": [
        "# 範例\n",
        "\n",
        "透過 SIFT 特徵實作 Brute-Force Matching"
      ]
    },
    {
      "cell_type": "code",
      "metadata": {
        "id": "YYqOV3VPRiR6"
      },
      "source": [
        "import cv2\n",
        "import numpy as np\n",
        "\n",
        "# 以灰階方式讀入圖片\n",
        "img_query = cv2.imread('data/box.png', 0)\n",
        "img_train = cv2.imread('data/box_in_scene.png', 0)\n",
        "\n",
        "# 建立 SIFT 物件\n",
        "sift = cv2.xfeatures2d_SIFT.create()\n",
        "\n",
        "# 偵測並計算 SIFT 特徵 (keypoints 關鍵點, descriptor 128 維敘述子)\n",
        "kp_query, des_query = sift.detectAndCompute(img_query, None)\n",
        "kp_train, des_train = sift.detectAndCompute(img_train, None)"
      ],
      "execution_count": null,
      "outputs": []
    },
    {
      "cell_type": "markdown",
      "metadata": {
        "id": "zo0Q_DvZRiSK"
      },
      "source": [
        "## 基於 SIFT 特徵的暴力比對\n",
        "\n",
        "- D.Lowe ratio test\n",
        "- knn 比對"
      ]
    },
    {
      "cell_type": "code",
      "metadata": {
        "id": "HG03GwbIRiSM"
      },
      "source": [
        "# 建立 Brute-Force Matching 物件\n",
        "bf = cv2.BFMatcher(cv2.NORM_L2)\n",
        "\n",
        "# 以 knn 方式暴力比對特徵\n",
        "matches = bf.knnMatch(des_query, des_train, k=2)\n",
        "\n",
        "# 透過 D.Lowe ratio test 排除不適合的配對\n",
        "candidate = []\n",
        "for m, n in matches:\n",
        "    if m.distance < 0.75*n.distance:\n",
        "        candidate.append([m])\n",
        "\n",
        "# 顯示配對結果\n",
        "img_show = cv2.drawMatchesKnn(img_query, kp_query, img_train, kp_train, candidate, None, flags=2)\n",
        "\n",
        "# 顯示圖片\n",
        "while True:\n",
        "    cv2.imshow('matches', img_show)\n",
        "    k = cv2.waitKey(0)\n",
        "    if k == 27:\n",
        "        cv2.destroyAllWindows()\n",
        "        break"
      ],
      "execution_count": null,
      "outputs": []
    }
  ]
}