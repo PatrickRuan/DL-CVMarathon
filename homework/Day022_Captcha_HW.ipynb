{
  "nbformat": 4,
  "nbformat_minor": 0,
  "metadata": {
    "accelerator": "GPU",
    "colab": {
      "name": "Day022_Captcha_HW.ipynb",
      "provenance": [],
      "collapsed_sections": [],
      "include_colab_link": true
    },
    "kernelspec": {
      "display_name": "Python 3",
      "language": "python",
      "name": "python3"
    },
    "language_info": {
      "codemirror_mode": {
        "name": "ipython",
        "version": 3
      },
      "file_extension": ".py",
      "mimetype": "text/x-python",
      "name": "python",
      "nbconvert_exporter": "python",
      "pygments_lexer": "ipython3",
      "version": "3.7.4"
    }
  },
  "cells": [
    {
      "cell_type": "markdown",
      "metadata": {
        "id": "view-in-github",
        "colab_type": "text"
      },
      "source": [
        "<a href=\"https://colab.research.google.com/github/PatrickRuan/DL-CVMarathon/blob/master/homework/Day022_Captcha_HW.ipynb\" target=\"_parent\"><img src=\"https://colab.research.google.com/assets/colab-badge.svg\" alt=\"Open In Colab\"/></a>"
      ]
    },
    {
      "cell_type": "markdown",
      "metadata": {
        "id": "OWRJW4ixn_tm"
      },
      "source": [
        "## 『本次練習內容』\n",
        "#### 搭建一個能識別驗證碼的模型(CNN+CTC)"
      ]
    },
    {
      "cell_type": "markdown",
      "metadata": {
        "id": "p5JJ8dKpn_tt"
      },
      "source": [
        "## 『本次練習目的』\n",
        "  #### 了解如何結合CNN與CTC Loss\n",
        "  #### 有時間學員也可以延伸閱讀CNN+RNN+CTC模型\n",
        "  #### 沒有GPU的學員可以使用Colab，可以參考問答區的文章"
      ]
    },
    {
      "cell_type": "code",
      "metadata": {
        "id": "rgYGa1ckn_tw"
      },
      "source": [
        "## 使用Colab可先run這裡的code\n",
        "#假如要連結自己的雲端硬碟再開啟\n",
        "from google.colab import drive\n",
        "drive.mount('/content/gdrive')\n",
        "#檢查GPU\n",
        "!nvidia-smi\n",
        "#安裝產生驗證碼的套件"
      ],
      "execution_count": null,
      "outputs": []
    },
    {
      "cell_type": "markdown",
      "metadata": {
        "id": "tbXR8sadn_uC"
      },
      "source": [
        "## 記得先 pip install captcha"
      ]
    },
    {
      "cell_type": "code",
      "metadata": {
        "id": "AxGi02yvx1Go",
        "outputId": "0301562b-518b-4886-d76e-13e32b720b66",
        "colab": {
          "base_uri": "https://localhost:8080/",
          "height": 119
        }
      },
      "source": [
        "!pip install captcha"
      ],
      "execution_count": 2,
      "outputs": [
        {
          "output_type": "stream",
          "text": [
            "Collecting captcha\n",
            "\u001b[?25l  Downloading https://files.pythonhosted.org/packages/90/fe/d4ddf1e6576073b5eaea76e9b2afa022c626212a30c871968480be3ccb7b/captcha-0.3-py3-none-any.whl (101kB)\n",
            "\r\u001b[K     |███▎                            | 10kB 21.5MB/s eta 0:00:01\r\u001b[K     |██████▌                         | 20kB 6.3MB/s eta 0:00:01\r\u001b[K     |█████████▊                      | 30kB 7.4MB/s eta 0:00:01\r\u001b[K     |█████████████                   | 40kB 8.2MB/s eta 0:00:01\r\u001b[K     |████████████████▏               | 51kB 6.9MB/s eta 0:00:01\r\u001b[K     |███████████████████▍            | 61kB 7.6MB/s eta 0:00:01\r\u001b[K     |██████████████████████▋         | 71kB 8.4MB/s eta 0:00:01\r\u001b[K     |█████████████████████████▉      | 81kB 8.9MB/s eta 0:00:01\r\u001b[K     |█████████████████████████████   | 92kB 8.0MB/s eta 0:00:01\r\u001b[K     |████████████████████████████████| 102kB 5.1MB/s \n",
            "\u001b[?25hRequirement already satisfied: Pillow in /usr/local/lib/python3.6/dist-packages (from captcha) (7.0.0)\n",
            "Installing collected packages: captcha\n",
            "Successfully installed captcha-0.3\n"
          ],
          "name": "stdout"
        }
      ]
    },
    {
      "cell_type": "markdown",
      "metadata": {
        "id": "KrU0NlMan_uO"
      },
      "source": [
        "## 產生驗證碼"
      ]
    },
    {
      "cell_type": "code",
      "metadata": {
        "id": "eGwIs7vnotHb",
        "outputId": "00ce8c7c-cb05-4379-c927-366924f8f56f",
        "colab": {
          "base_uri": "https://localhost:8080/",
          "height": 34
        }
      },
      "source": [
        ""
      ],
      "execution_count": 7,
      "outputs": [
        {
          "output_type": "stream",
          "text": [
            "0123456789ABCDEFGHIJKLMNOPQRSTUVWXYZ\n"
          ],
          "name": "stdout"
        }
      ]
    },
    {
      "cell_type": "code",
      "metadata": {
        "id": "h2VVCBKwk6Zv",
        "outputId": "07dc8bd6-c51b-4ee7-bdac-01cbf976e92f",
        "colab": {
          "base_uri": "https://localhost:8080/",
          "height": 254
        }
      },
      "source": [
        "from captcha.image import ImageCaptcha\n",
        "import matplotlib.pyplot as plt\n",
        "import numpy as np\n",
        "import random\n",
        "\n",
        "%matplotlib inline\n",
        "%config InlineBackend.figure_format = 'retina'\n",
        "\n",
        "import string\n",
        "##驗證碼包含0-10數字以及26個英文大寫字母\n",
        "characters = string.digits + string.ascii_uppercase\n",
        "print(characters) \n",
        "#0123456789ABCDEFGHIJKLMNOPQRSTUVWXYZ\n",
        "\n",
        "\n",
        "##設定產生圖片尺寸，以及總類別，n_class之所以要加一是為了留一個位置給 **Blank**\n",
        "width, height, n_len, n_class = 170, 80, 4, len(characters)+1\n",
        "\n",
        "##設定產生驗證碼的generator\n",
        "generator = ImageCaptcha(width=width, height=height)\n",
        "\n",
        "##我們先練習固定長度4個字的驗證碼\n",
        "random_str = ''.join([random.choice(characters) for j in range(4)])\n",
        "img = generator.generate_image(random_str)\n",
        "\n",
        "plt.imshow(img)\n",
        "plt.title(random_str)"
      ],
      "execution_count": 8,
      "outputs": [
        {
          "output_type": "stream",
          "text": [
            "0123456789ABCDEFGHIJKLMNOPQRSTUVWXYZ\n"
          ],
          "name": "stdout"
        },
        {
          "output_type": "execute_result",
          "data": {
            "text/plain": [
              "Text(0.5, 1.0, 'RIY2')"
            ]
          },
          "metadata": {
            "tags": []
          },
          "execution_count": 8
        },
        {
          "output_type": "display_data",
          "data": {
            "image/png": "[encoded data removed]",
            "text/plain": [
              "<Figure size 432x288 with 1 Axes>"
            ]
          },
          "metadata": {
            "tags": [],
            "image/png": {
              "width": 369,
              "height": 203
            },
            "needs_background": "light"
          }
        }
      ]
    },
    {
      "cell_type": "markdown",
      "metadata": {
        "id": "aMzozFXrn_uW"
      },
      "source": [
        "## 自己搭建一個CNN模型使得output feature Map 高度被壓縮成小於4，8<寬度<20\n",
        "#### 解答的output feature Map 為 (batch_size,1,13,32)"
      ]
    },
    {
      "cell_type": "code",
      "metadata": {
        "id": "LIFKkIkKn_uY"
      },
      "source": [
        "from keras import backend as K\n",
        "import keras\n",
        "\n",
        "##CTC Loss需要四個資訊，分別是\n",
        "## Label\n",
        "## 預測\n",
        "## CNN OUTPUT寬度\n",
        "## 預測影像所包含文字長度\n",
        "def ctc_lambda_func(args):\n",
        "    y_pred, labels, input_length, label_length = args\n",
        "    return K.ctc_batch_cost(labels, y_pred, input_length, label_length)"
      ],
      "execution_count": 9,
      "outputs": []
    },
    {
      "cell_type": "code",
      "metadata": {
        "id": "KX3Jq1sClGGn"
      },
      "source": [
        "from keras.models import *\n",
        "from keras.layers import *\n",
        "rnn_size = 128\n",
        "\n",
        "input_tensor = Input((height,width, 3))\n",
        "x = input_tensor\n",
        "\n",
        "x = Conv2D(32,(3,3), padding ='same', activation = 'relu')(x)\n",
        "x = BatchNormalization()(x)\n",
        "x = Conv2D(32,(3,3), padding ='same', activation = 'relu')(x)\n",
        "x = BatchNormalization()(x)\n",
        "x = MaxPool2D((2,2), strides=(1,1))(x)\n",
        "x = Conv2D(64,(3,3), padding ='same', activation = 'relu')(x)\n",
        "x = BatchNormalization()(x)\n",
        "x = MaxPool2D((2,2))(x)\n",
        "x = Conv2D(128,(3,3), padding ='same', activation = 'relu')(x)\n",
        "x = BatchNormalization()(x)\n",
        "\n",
        "\n",
        "##記錄輸出CNN尺寸，loss部分需要這個資訊\n",
        "##conv_shape=(Batch_size,輸出高度,輸出寬度,輸出深度)\n",
        "conv_shape = x.get_shape()\n",
        "##從(Batch_size,輸出高度,輸出寬度,輸出深度)變成(Batch_size,輸出寬度,輸出深度*輸出高度)，以符合ctc loss需求\n",
        "x = Reshape(target_shape=(int(conv_shape[2]), int(conv_shape[1]*conv_shape[3])))(x) # Flatten(?)\n",
        "x = Dense(128, activation='relu')(x)\n",
        "x = Dropout(0.25)(x)\n",
        "x = Dense(n_class, activation='softmax')(x)\n",
        "\n",
        "##包裝用來預測的model\n",
        "base_model = Model(inputs=input_tensor, outputs=x)\n",
        "\n",
        "##設定要給CTC Loss的資訊\n",
        "labels = Input(name='the_labels', shape=[n_len], dtype='float32')\n",
        "input_length = Input(name='input_length', shape=[1], dtype='int64')\n",
        "label_length = Input(name='label_length', shape=[1], dtype='int64')\n",
        "loss_out = Lambda(ctc_lambda_func, output_shape=(1,), \n",
        "                  name='ctc')([x, labels, input_length, label_length])\n",
        "\n",
        "##這裡的model是用來計算loss\n",
        "model = Model(inputs=[input_tensor, labels, input_length, label_length], outputs=[loss_out])\n",
        "\n",
        "##之所以要lambda y_true, y_pred: y_pred是因為我們的loss已經包在網路裡，會output:y_true, y_pred，而我們只需要y_pred\n",
        "model.compile(loss={'ctc': lambda y_true, y_pred: y_pred}, optimizer='adam')"
      ],
      "execution_count": 18,
      "outputs": []
    },
    {
      "cell_type": "code",
      "metadata": {
        "id": "m1YRv0TVN_FL",
        "outputId": "be65036d-dcf2-47df-f386-11bd19e31cbd",
        "colab": {
          "base_uri": "https://localhost:8080/",
          "height": 850
        }
      },
      "source": [
        "model.summary()"
      ],
      "execution_count": 19,
      "outputs": [
        {
          "output_type": "stream",
          "text": [
            "Model: \"functional_9\"\n",
            "__________________________________________________________________________________________________\n",
            "Layer (type)                    Output Shape         Param #     Connected to                     \n",
            "==================================================================================================\n",
            "input_7 (InputLayer)            [(None, 80, 170, 3)] 0                                            \n",
            "__________________________________________________________________________________________________\n",
            "conv2d_14 (Conv2D)              (None, 80, 170, 32)  896         input_7[0][0]                    \n",
            "__________________________________________________________________________________________________\n",
            "batch_normalization_14 (BatchNo (None, 80, 170, 32)  128         conv2d_14[0][0]                  \n",
            "__________________________________________________________________________________________________\n",
            "conv2d_15 (Conv2D)              (None, 80, 170, 32)  9248        batch_normalization_14[0][0]     \n",
            "__________________________________________________________________________________________________\n",
            "batch_normalization_15 (BatchNo (None, 80, 170, 32)  128         conv2d_15[0][0]                  \n",
            "__________________________________________________________________________________________________\n",
            "max_pooling2d_7 (MaxPooling2D)  (None, 79, 169, 32)  0           batch_normalization_15[0][0]     \n",
            "__________________________________________________________________________________________________\n",
            "conv2d_16 (Conv2D)              (None, 79, 169, 64)  18496       max_pooling2d_7[0][0]            \n",
            "__________________________________________________________________________________________________\n",
            "batch_normalization_16 (BatchNo (None, 79, 169, 64)  256         conv2d_16[0][0]                  \n",
            "__________________________________________________________________________________________________\n",
            "max_pooling2d_8 (MaxPooling2D)  (None, 39, 84, 64)   0           batch_normalization_16[0][0]     \n",
            "__________________________________________________________________________________________________\n",
            "conv2d_17 (Conv2D)              (None, 39, 84, 128)  73856       max_pooling2d_8[0][0]            \n",
            "__________________________________________________________________________________________________\n",
            "batch_normalization_17 (BatchNo (None, 39, 84, 128)  512         conv2d_17[0][0]                  \n",
            "__________________________________________________________________________________________________\n",
            "reshape_3 (Reshape)             (None, 84, 4992)     0           batch_normalization_17[0][0]     \n",
            "__________________________________________________________________________________________________\n",
            "dense_6 (Dense)                 (None, 84, 128)      639104      reshape_3[0][0]                  \n",
            "__________________________________________________________________________________________________\n",
            "dropout_3 (Dropout)             (None, 84, 128)      0           dense_6[0][0]                    \n",
            "__________________________________________________________________________________________________\n",
            "dense_7 (Dense)                 (None, 84, 37)       4773        dropout_3[0][0]                  \n",
            "__________________________________________________________________________________________________\n",
            "the_labels (InputLayer)         [(None, 4)]          0                                            \n",
            "__________________________________________________________________________________________________\n",
            "input_length (InputLayer)       [(None, 1)]          0                                            \n",
            "__________________________________________________________________________________________________\n",
            "label_length (InputLayer)       [(None, 1)]          0                                            \n",
            "__________________________________________________________________________________________________\n",
            "ctc (Lambda)                    (None, 1)            0           dense_7[0][0]                    \n",
            "                                                                 the_labels[0][0]                 \n",
            "                                                                 input_length[0][0]               \n",
            "                                                                 label_length[0][0]               \n",
            "==================================================================================================\n",
            "Total params: 747,397\n",
            "Trainable params: 746,885\n",
            "Non-trainable params: 512\n",
            "__________________________________________________________________________________________________\n"
          ],
          "name": "stdout"
        }
      ]
    },
    {
      "cell_type": "code",
      "metadata": {
        "id": "5Jzb1YnqlJug"
      },
      "source": [
        "##設計generator產生training data\n",
        "## 產生包含要給loss的資訊\n",
        "## X=輸入影像\n",
        "## np.ones(batch_size)*int(conv_shape[2])=CNN輸出feature Map寬度\n",
        "## np.ones(batch_size)*n_len=字串長度(可浮動)\n",
        "\n",
        "def gen(batch_size=128):\n",
        "    X = np.zeros((batch_size,height, width, 3), dtype=np.uint8)\n",
        "    y = np.zeros((batch_size, n_len), dtype=np.uint8)\n",
        "    while True:\n",
        "        generator = ImageCaptcha(width=width, height=height)\n",
        "        for i in range(batch_size):\n",
        "            random_str = ''.join([random.choice(characters) for j in range(4)])\n",
        "            X[i] = np.array(generator.generate_image(random_str))\n",
        "            y[i] = [characters.find(x) for x in random_str]\n",
        "        yield [X, y,np.ones(batch_size)*int(conv_shape[2]), np.ones(batch_size)*n_len], np.ones(batch_size)"
      ],
      "execution_count": 22,
      "outputs": []
    },
    {
      "cell_type": "code",
      "metadata": {
        "id": "dfcFs6InVQaT",
        "outputId": "9364a585-72c5-4d3b-8cdb-d41a128dfff3",
        "colab": {
          "base_uri": "https://localhost:8080/",
          "height": 259
        }
      },
      "source": [
        "next_ge=gen(batch_size=1)\n",
        "test_ge=next(next_ge)\n",
        "plt.imshow(test_ge[0][0][0])\n",
        "print('Label: ',test_ge[0][1])\n",
        "print('CNN輸出寬度: ',test_ge[0][2])\n",
        "print('字串長度(可浮動): ',test_ge[0][3])"
      ],
      "execution_count": 27,
      "outputs": [
        {
          "output_type": "stream",
          "text": [
            "Label:  [[27 26 35 33]]\n",
            "CNN輸出寬度:  [84.]\n",
            "字串長度(可浮動):  [4.]\n"
          ],
          "name": "stdout"
        },
        {
          "output_type": "display_data",
          "data": {
            "image/png": "[encoded data removed]",
            "text/plain": [
              "<Figure size 432x288 with 1 Axes>"
            ]
          },
          "metadata": {
            "tags": [],
            "image/png": {
              "width": 369,
              "height": 191
            },
            "needs_background": "light"
          }
        }
      ]
    },
    {
      "cell_type": "markdown",
      "metadata": {
        "id": "OP7qGXl6n_uw"
      },
      "source": [
        "## 開始訓練"
      ]
    },
    {
      "cell_type": "code",
      "metadata": {
        "id": "fqdKnqollUKj",
        "outputId": "97a80156-c52f-4a95-d418-ea153af5d8db",
        "colab": {
          "base_uri": "https://localhost:8080/",
          "height": 1000
        }
      },
      "source": [
        "model.fit_generator(gen(32), steps_per_epoch=50, epochs=60) #steps_per_epoch=300"
      ],
      "execution_count": 29,
      "outputs": [
        {
          "output_type": "stream",
          "text": [
            "Epoch 1/60\n",
            "50/50 [==============================] - 7s 149ms/step - loss: 15.9076\n",
            "Epoch 2/60\n",
            "50/50 [==============================] - 7s 148ms/step - loss: 15.8734\n",
            "Epoch 3/60\n",
            "50/50 [==============================] - 7s 148ms/step - loss: 15.6887\n",
            "Epoch 4/60\n",
            "50/50 [==============================] - 7s 149ms/step - loss: 15.5899\n",
            "Epoch 5/60\n",
            "50/50 [==============================] - 7s 149ms/step - loss: 15.4327\n",
            "Epoch 6/60\n",
            "50/50 [==============================] - 7s 147ms/step - loss: 15.4517\n",
            "Epoch 7/60\n",
            "50/50 [==============================] - 7s 148ms/step - loss: 15.3871\n",
            "Epoch 8/60\n",
            "50/50 [==============================] - 7s 148ms/step - loss: 15.3575\n",
            "Epoch 9/60\n",
            "50/50 [==============================] - 7s 148ms/step - loss: 15.3334\n",
            "Epoch 10/60\n",
            "50/50 [==============================] - 7s 150ms/step - loss: 15.2098\n",
            "Epoch 11/60\n",
            "50/50 [==============================] - 7s 150ms/step - loss: 15.2439\n",
            "Epoch 12/60\n",
            "50/50 [==============================] - 7s 149ms/step - loss: 15.2681\n",
            "Epoch 13/60\n",
            "50/50 [==============================] - 8s 150ms/step - loss: 15.2720\n",
            "Epoch 14/60\n",
            "50/50 [==============================] - 7s 150ms/step - loss: 15.2378\n",
            "Epoch 15/60\n",
            "50/50 [==============================] - 8s 151ms/step - loss: 15.1985\n",
            "Epoch 16/60\n",
            "50/50 [==============================] - 7s 150ms/step - loss: 15.1970\n",
            "Epoch 17/60\n",
            "50/50 [==============================] - 8s 150ms/step - loss: 15.2013\n",
            "Epoch 18/60\n",
            "50/50 [==============================] - 8s 150ms/step - loss: 15.2453\n",
            "Epoch 19/60\n",
            "50/50 [==============================] - 8s 150ms/step - loss: 15.1463\n",
            "Epoch 20/60\n",
            "50/50 [==============================] - 8s 151ms/step - loss: 15.1307\n",
            "Epoch 21/60\n",
            "50/50 [==============================] - 8s 151ms/step - loss: 15.2061\n",
            "Epoch 22/60\n",
            "50/50 [==============================] - 7s 149ms/step - loss: 15.1301\n",
            "Epoch 23/60\n",
            "50/50 [==============================] - 8s 151ms/step - loss: 15.1570\n",
            "Epoch 24/60\n",
            "50/50 [==============================] - 7s 150ms/step - loss: 15.1707\n",
            "Epoch 25/60\n",
            "50/50 [==============================] - 8s 150ms/step - loss: 15.1613\n",
            "Epoch 26/60\n",
            "50/50 [==============================] - 8s 152ms/step - loss: 15.2064\n",
            "Epoch 27/60\n",
            "50/50 [==============================] - 8s 152ms/step - loss: 15.1658\n",
            "Epoch 28/60\n",
            "50/50 [==============================] - 7s 150ms/step - loss: 15.1420\n",
            "Epoch 29/60\n",
            "50/50 [==============================] - 8s 151ms/step - loss: 15.1611\n",
            "Epoch 30/60\n",
            "50/50 [==============================] - 8s 152ms/step - loss: 15.1742\n",
            "Epoch 31/60\n",
            "50/50 [==============================] - 7s 149ms/step - loss: 15.1423\n",
            "Epoch 32/60\n",
            "50/50 [==============================] - 7s 148ms/step - loss: 15.1270\n",
            "Epoch 33/60\n",
            "50/50 [==============================] - 7s 148ms/step - loss: 15.0598\n",
            "Epoch 34/60\n",
            "50/50 [==============================] - 7s 149ms/step - loss: 15.1432\n",
            "Epoch 35/60\n",
            "50/50 [==============================] - 7s 149ms/step - loss: 15.0698\n",
            "Epoch 36/60\n",
            "50/50 [==============================] - 7s 149ms/step - loss: 15.0694\n",
            "Epoch 37/60\n",
            "50/50 [==============================] - 7s 149ms/step - loss: 15.0819\n",
            "Epoch 38/60\n",
            "50/50 [==============================] - 7s 149ms/step - loss: 15.1615\n",
            "Epoch 39/60\n",
            "50/50 [==============================] - 7s 148ms/step - loss: 15.1307\n",
            "Epoch 40/60\n",
            "50/50 [==============================] - 7s 149ms/step - loss: 15.1064\n",
            "Epoch 41/60\n",
            "50/50 [==============================] - 7s 149ms/step - loss: 15.0706\n",
            "Epoch 42/60\n",
            "50/50 [==============================] - 8s 151ms/step - loss: 15.0733\n",
            "Epoch 43/60\n",
            "50/50 [==============================] - 7s 150ms/step - loss: 15.0903\n",
            "Epoch 44/60\n",
            "50/50 [==============================] - 7s 148ms/step - loss: 15.1648\n",
            "Epoch 45/60\n",
            "50/50 [==============================] - 7s 149ms/step - loss: 15.1380\n",
            "Epoch 46/60\n",
            "50/50 [==============================] - 7s 148ms/step - loss: 15.1523\n",
            "Epoch 47/60\n",
            "50/50 [==============================] - 7s 148ms/step - loss: 15.0918\n",
            "Epoch 48/60\n",
            "50/50 [==============================] - 7s 149ms/step - loss: 15.1039\n",
            "Epoch 49/60\n",
            "50/50 [==============================] - 7s 147ms/step - loss: 15.0822\n",
            "Epoch 50/60\n",
            "50/50 [==============================] - 7s 149ms/step - loss: 15.0969\n",
            "Epoch 51/60\n",
            "50/50 [==============================] - 7s 149ms/step - loss: 15.0549\n",
            "Epoch 52/60\n",
            "50/50 [==============================] - 7s 147ms/step - loss: 15.0990\n",
            "Epoch 53/60\n",
            "50/50 [==============================] - 7s 149ms/step - loss: 15.0910\n",
            "Epoch 54/60\n",
            "50/50 [==============================] - 7s 149ms/step - loss: 15.0958\n",
            "Epoch 55/60\n",
            "50/50 [==============================] - 7s 148ms/step - loss: 15.1086\n",
            "Epoch 56/60\n",
            "50/50 [==============================] - 8s 150ms/step - loss: 15.0432\n",
            "Epoch 57/60\n",
            "50/50 [==============================] - 7s 148ms/step - loss: 15.0362\n",
            "Epoch 58/60\n",
            "50/50 [==============================] - 7s 148ms/step - loss: 15.0153\n",
            "Epoch 59/60\n",
            "50/50 [==============================] - 7s 148ms/step - loss: 15.0764\n",
            "Epoch 60/60\n",
            "50/50 [==============================] - 7s 148ms/step - loss: 15.0506\n"
          ],
          "name": "stdout"
        },
        {
          "output_type": "execute_result",
          "data": {
            "text/plain": [
              "<tensorflow.python.keras.callbacks.History at 0x7f39804c8940>"
            ]
          },
          "metadata": {
            "tags": []
          },
          "execution_count": 29
        }
      ]
    },
    {
      "cell_type": "markdown",
      "metadata": {
        "id": "ANo4yfdPn_uz"
      },
      "source": [
        "## 預測"
      ]
    },
    {
      "cell_type": "code",
      "metadata": {
        "id": "kzgNhfu8n_u0",
        "outputId": "1a9ac583-1e15-4ebc-964c-3f0d252d3361",
        "colab": {
          "base_uri": "https://localhost:8080/",
          "height": 234
        }
      },
      "source": [
        "characters2 = characters + ' '\n",
        "[X_test, y_test, _, _], _  = next(gen(1))\n",
        "y_pred = base_model.predict(X_test)\n",
        "##用ctc_decode得到解答，自己寫可以參考下方\n",
        "out = K.get_value(K.ctc_decode(y_pred, input_length=np.ones(y_pred.shape[0])*y_pred.shape[1], )[0][0])\n",
        "out = ''.join([characters[x] for x in out[0]])\n",
        "y_true = ''.join([characters[x] for x in y_test[0]])\n",
        "\n",
        "plt.imshow(X_test[0])\n",
        "plt.title('pred:' + str(out) + '\\ntrue: ' + str(y_true))\n",
        "\n",
        "argmax = np.argmax(y_pred, axis=2)[0]"
      ],
      "execution_count": 37,
      "outputs": [
        {
          "output_type": "display_data",
          "data": {
            "image/png": "[encoded data removed]",
            "text/plain": [
              "<Figure size 432x288 with 1 Axes>"
            ]
          },
          "metadata": {
            "tags": [],
            "image/png": {
              "width": 737,
              "height": 217
            },
            "needs_background": "light"
          }
        }
      ]
    },
    {
      "cell_type": "markdown",
      "metadata": {
        "id": "ab6QONv7n_u5"
      },
      "source": [
        "## 自己寫 decode CTC"
      ]
    },
    {
      "cell_type": "code",
      "metadata": {
        "id": "u6RM4WZCn_u6"
      },
      "source": [
        "## 其中0代表預測為空格，如果預測相同字符之間沒有空格要移除\n",
        "word=''\n",
        "n=''\n",
        "for single_result in y_pred[0].argmax(1):\n",
        "    if single_result != 36:\n",
        "        if n != single_result:\n",
        "            word+=characters[single_result]\n",
        "    n=single_result "
      ],
      "execution_count": null,
      "outputs": []
    },
    {
      "cell_type": "markdown",
      "metadata": {
        "id": "fYiotdiXn_u9"
      },
      "source": [
        "## 額外參考：加入RNN的神經網路"
      ]
    },
    {
      "cell_type": "code",
      "metadata": {
        "id": "GxlUib0svjwF",
        "outputId": "dc87ff95-5dfb-40f5-fc4a-cafeca92c9c8",
        "colab": {
          "base_uri": "https://localhost:8080/",
          "height": 34
        }
      },
      "source": [
        "width"
      ],
      "execution_count": 41,
      "outputs": [
        {
          "output_type": "execute_result",
          "data": {
            "text/plain": [
              "170"
            ]
          },
          "metadata": {
            "tags": []
          },
          "execution_count": 41
        }
      ]
    },
    {
      "cell_type": "code",
      "metadata": {
        "id": "ssaQ8ZmRn_u9",
        "outputId": "16312115-510d-460e-9716-98752a88e128",
        "colab": {
          "base_uri": "https://localhost:8080/",
          "height": 85
        }
      },
      "source": [
        "from keras.models import *\n",
        "from keras.layers import *\n",
        "rnn_size = 128\n",
        "\n",
        "input_tensor = Input((height,width, 3))\n",
        "x = input_tensor\n",
        "for i in range(4):\n",
        "    print(i)\n",
        "    x = Convolution2D(32, 3, 3,padding = 'same', activation='relu')(x)\n",
        "    x = keras.layers.BatchNormalization(axis=-1)(x)\n",
        "    x = Convolution2D(32, 3, 3, padding ='same', activation='relu')(x)\n",
        "    x = keras.layers.BatchNormalization(axis=-1)(x)\n",
        "    if i <1:\n",
        "        x = MaxPooling2D(pool_size=(2, 2))(x)\n",
        "    #else:\n",
        "    #    x = MaxPooling2D(pool_size=(2, 1))(x)\n",
        "\n",
        "\n",
        "conv_shape = x.get_shape()\n",
        "x = Reshape(target_shape=(int(conv_shape[2]), int(conv_shape[1]*conv_shape[3])))(x)\n",
        "\n",
        "x = Dense(32, activation='relu')(x)\n",
        "\n",
        "gru_1 = GRU(rnn_size, return_sequences=True, name='gru1')(x) # init='he_normal',\n",
        "gru_1b = GRU(rnn_size, return_sequences=True, go_backwards=True, \n",
        "              name='gru1_b')(x) #init='he_normal',\n",
        "gru1_merged = keras.layers.add([gru_1, gru_1b])\n",
        "\n",
        "gru_2 = GRU(rnn_size, return_sequences=True,  name='gru2')(gru1_merged) #init='he_normal',\n",
        "gru_2b = GRU(rnn_size, return_sequences=True, go_backwards=True, \n",
        "             name='gru2_b')(gru1_merged) # init='he_normal',\n",
        "x = keras.layers.Concatenate()([gru_2, gru_2b])\n",
        "\n",
        "x = Dropout(0.25)(x)\n",
        "x = Dense(n_class,  activation='softmax')(x) #init='he_normal'\n",
        "\n",
        "base_model = Model(inputs=input_tensor, outputs=x)\n",
        "\n",
        "labels = Input(name='the_labels', shape=[n_len], dtype='float32')\n",
        "input_length = Input(name='input_length', shape=[1], dtype='int64')\n",
        "label_length = Input(name='label_length', shape=[1], dtype='int64')\n",
        "loss_out = Lambda(ctc_lambda_func, output_shape=(1,), \n",
        "                  name='ctc')([x, labels, input_length, label_length])\n",
        "\n",
        "model = Model(inputs=[input_tensor, labels, input_length, label_length], outputs=[loss_out])\n",
        "model.compile(loss={'ctc': lambda y_true, y_pred: y_pred}, optimizer='Adam')"
      ],
      "execution_count": 52,
      "outputs": [
        {
          "output_type": "stream",
          "text": [
            "0\n",
            "1\n",
            "2\n",
            "3\n"
          ],
          "name": "stdout"
        }
      ]
    },
    {
      "cell_type": "code",
      "metadata": {
        "id": "AzdnPDwwn_vA",
        "outputId": "a1e3058c-9746-40cc-e866-12af193796c5",
        "colab": {
          "base_uri": "https://localhost:8080/",
          "height": 1000
        }
      },
      "source": [
        "model.summary()"
      ],
      "execution_count": 53,
      "outputs": [
        {
          "output_type": "stream",
          "text": [
            "Model: \"functional_15\"\n",
            "__________________________________________________________________________________________________\n",
            "Layer (type)                    Output Shape         Param #     Connected to                     \n",
            "==================================================================================================\n",
            "input_19 (InputLayer)           [(None, 80, 170, 3)] 0                                            \n",
            "__________________________________________________________________________________________________\n",
            "conv2d_78 (Conv2D)              (None, 27, 57, 32)   896         input_19[0][0]                   \n",
            "__________________________________________________________________________________________________\n",
            "batch_normalization_76 (BatchNo (None, 27, 57, 32)   128         conv2d_78[0][0]                  \n",
            "__________________________________________________________________________________________________\n",
            "conv2d_79 (Conv2D)              (None, 9, 19, 32)    9248        batch_normalization_76[0][0]     \n",
            "__________________________________________________________________________________________________\n",
            "batch_normalization_77 (BatchNo (None, 9, 19, 32)    128         conv2d_79[0][0]                  \n",
            "__________________________________________________________________________________________________\n",
            "max_pooling2d_25 (MaxPooling2D) (None, 4, 9, 32)     0           batch_normalization_77[0][0]     \n",
            "__________________________________________________________________________________________________\n",
            "conv2d_80 (Conv2D)              (None, 2, 3, 32)     9248        max_pooling2d_25[0][0]           \n",
            "__________________________________________________________________________________________________\n",
            "batch_normalization_78 (BatchNo (None, 2, 3, 32)     128         conv2d_80[0][0]                  \n",
            "__________________________________________________________________________________________________\n",
            "conv2d_81 (Conv2D)              (None, 1, 1, 32)     9248        batch_normalization_78[0][0]     \n",
            "__________________________________________________________________________________________________\n",
            "batch_normalization_79 (BatchNo (None, 1, 1, 32)     128         conv2d_81[0][0]                  \n",
            "__________________________________________________________________________________________________\n",
            "conv2d_82 (Conv2D)              (None, 1, 1, 32)     9248        batch_normalization_79[0][0]     \n",
            "__________________________________________________________________________________________________\n",
            "batch_normalization_80 (BatchNo (None, 1, 1, 32)     128         conv2d_82[0][0]                  \n",
            "__________________________________________________________________________________________________\n",
            "conv2d_83 (Conv2D)              (None, 1, 1, 32)     9248        batch_normalization_80[0][0]     \n",
            "__________________________________________________________________________________________________\n",
            "batch_normalization_81 (BatchNo (None, 1, 1, 32)     128         conv2d_83[0][0]                  \n",
            "__________________________________________________________________________________________________\n",
            "conv2d_84 (Conv2D)              (None, 1, 1, 32)     9248        batch_normalization_81[0][0]     \n",
            "__________________________________________________________________________________________________\n",
            "batch_normalization_82 (BatchNo (None, 1, 1, 32)     128         conv2d_84[0][0]                  \n",
            "__________________________________________________________________________________________________\n",
            "conv2d_85 (Conv2D)              (None, 1, 1, 32)     9248        batch_normalization_82[0][0]     \n",
            "__________________________________________________________________________________________________\n",
            "batch_normalization_83 (BatchNo (None, 1, 1, 32)     128         conv2d_85[0][0]                  \n",
            "__________________________________________________________________________________________________\n",
            "reshape_8 (Reshape)             (None, 1, 32)        0           batch_normalization_83[0][0]     \n",
            "__________________________________________________________________________________________________\n",
            "dense_14 (Dense)                (None, 1, 32)        1056        reshape_8[0][0]                  \n",
            "__________________________________________________________________________________________________\n",
            "gru1 (GRU)                      (None, 1, 128)       62208       dense_14[0][0]                   \n",
            "__________________________________________________________________________________________________\n",
            "gru1_b (GRU)                    (None, 1, 128)       62208       dense_14[0][0]                   \n",
            "__________________________________________________________________________________________________\n",
            "add_3 (Add)                     (None, 1, 128)       0           gru1[0][0]                       \n",
            "                                                                 gru1_b[0][0]                     \n",
            "__________________________________________________________________________________________________\n",
            "gru2 (GRU)                      (None, 1, 128)       99072       add_3[0][0]                      \n",
            "__________________________________________________________________________________________________\n",
            "gru2_b (GRU)                    (None, 1, 128)       99072       add_3[0][0]                      \n",
            "__________________________________________________________________________________________________\n",
            "concatenate_3 (Concatenate)     (None, 1, 256)       0           gru2[0][0]                       \n",
            "                                                                 gru2_b[0][0]                     \n",
            "__________________________________________________________________________________________________\n",
            "dropout_7 (Dropout)             (None, 1, 256)       0           concatenate_3[0][0]              \n",
            "__________________________________________________________________________________________________\n",
            "dense_15 (Dense)                (None, 1, 37)        9509        dropout_7[0][0]                  \n",
            "__________________________________________________________________________________________________\n",
            "the_labels (InputLayer)         [(None, 4)]          0                                            \n",
            "__________________________________________________________________________________________________\n",
            "input_length (InputLayer)       [(None, 1)]          0                                            \n",
            "__________________________________________________________________________________________________\n",
            "label_length (InputLayer)       [(None, 1)]          0                                            \n",
            "__________________________________________________________________________________________________\n",
            "ctc (Lambda)                    (None, 1)            0           dense_15[0][0]                   \n",
            "                                                                 the_labels[0][0]                 \n",
            "                                                                 input_length[0][0]               \n",
            "                                                                 label_length[0][0]               \n",
            "==================================================================================================\n",
            "Total params: 399,781\n",
            "Trainable params: 399,269\n",
            "Non-trainable params: 512\n",
            "__________________________________________________________________________________________________\n"
          ],
          "name": "stdout"
        }
      ]
    },
    {
      "cell_type": "code",
      "metadata": {
        "id": "NoKNabTbn_vC"
      },
      "source": [
        ""
      ],
      "execution_count": null,
      "outputs": []
    }
  ]
}