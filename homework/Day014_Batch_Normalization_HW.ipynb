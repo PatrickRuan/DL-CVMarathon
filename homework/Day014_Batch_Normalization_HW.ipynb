{
  "nbformat": 4,
  "nbformat_minor": 0,
  "metadata": {
    "kernelspec": {
      "display_name": "Python 3",
      "language": "python",
      "name": "python3"
    },
    "language_info": {
      "codemirror_mode": {
        "name": "ipython",
        "version": 3
      },
      "file_extension": ".py",
      "mimetype": "text/x-python",
      "name": "python",
      "nbconvert_exporter": "python",
      "pygments_lexer": "ipython3",
      "version": "3.6.7"
    },
    "colab": {
      "name": "Day014_Batch Normalization_HW.ipynb",
      "provenance": [],
      "include_colab_link": true
    }
  },
  "cells": [
    {
      "cell_type": "markdown",
      "metadata": {
        "id": "view-in-github",
        "colab_type": "text"
      },
      "source": [
        "<a href=\"https://colab.research.google.com/github/PatrickRuan/DL-CVMarathon/blob/master/homework/Day014_Batch_Normalization_HW.ipynb\" target=\"_parent\"><img src=\"https://colab.research.google.com/assets/colab-badge.svg\" alt=\"Open In Colab\"/></a>"
      ]
    },
    {
      "cell_type": "markdown",
      "metadata": {
        "id": "HvY_1drUfbGx"
      },
      "source": [
        "## 『本次練習內容』\n",
        "#### 搭建 Conv2D-BN-Activation層\n"
      ]
    },
    {
      "cell_type": "markdown",
      "metadata": {
        "id": "lkVfhCRcfbG2"
      },
      "source": [
        "## 『本次練習目的』\n",
        "  #### 了解如何搭建CNN基礎架構，Conv2D-BN-Activation"
      ]
    },
    {
      "cell_type": "code",
      "metadata": {
        "id": "_29Cj5lvfbG8"
      },
      "source": [
        "from keras.models import Sequential  #用來啟動 NN\n",
        "from keras.layers import Conv2D  # Convolution Operation\n",
        "from keras.layers import MaxPooling2D # Pooling\n",
        "from keras.layers import Flatten\n",
        "from keras.layers import Dense # Fully Connected Networks\n",
        "from keras.layers import BatchNormalization\n",
        "from keras.layers import Activation"
      ],
      "execution_count": 1,
      "outputs": []
    },
    {
      "cell_type": "markdown",
      "metadata": {
        "id": "oEPvkWaLfbHS"
      },
      "source": [
        "## 依照指示建立模型"
      ]
    },
    {
      "cell_type": "code",
      "metadata": {
        "id": "ycnAPlJcgLuN",
        "outputId": "e8dfd0c0-2cf0-4040-b499-fa6b92f2c7d4",
        "colab": {
          "base_uri": "https://localhost:8080/",
          "height": 34
        }
      },
      "source": [
        "32*3*3*3 + 32\n",
        "9248/(32*9+1)"
      ],
      "execution_count": 6,
      "outputs": [
        {
          "output_type": "execute_result",
          "data": {
            "text/plain": [
              "32.0"
            ]
          },
          "metadata": {
            "tags": []
          },
          "execution_count": 6
        }
      ]
    },
    {
      "cell_type": "code",
      "metadata": {
        "id": "vOEjChOAfbHV",
        "outputId": "feea50a3-5e6f-46e3-90c4-f6f8c20e4b27",
        "colab": {
          "base_uri": "https://localhost:8080/",
          "height": 362
        }
      },
      "source": [
        "input_shape = (32, 32, 3)\n",
        "\n",
        "model = Sequential()\n",
        "\n",
        "##  Conv2D-BN-Activation('sigmoid') \n",
        "\n",
        "#BatchNormalization主要參數：\n",
        "#momentum: Momentum for the moving mean and the moving variance.\n",
        "#epsilon: Small float added to variance to avoid dividing by zero.\n",
        "\n",
        "model.add(Conv2D(32,(3,3), input_shape = (32,32,3))) #896/28 = 32\n",
        "model.add(BatchNormalization()) \n",
        "model.add(Activation('sigmoid'))\n",
        "##、 Conv2D-BN-Activation('relu')\n",
        "model.add(Conv2D(32,(3,3)))   # 9248/(32*3*3+1)=32\n",
        "model.add(BatchNormalization()) \n",
        "model.add(Activation('relu'))\n",
        "\n",
        "model.summary()"
      ],
      "execution_count": 9,
      "outputs": [
        {
          "output_type": "stream",
          "text": [
            "Model: \"sequential_2\"\n",
            "_________________________________________________________________\n",
            "Layer (type)                 Output Shape              Param #   \n",
            "=================================================================\n",
            "conv2d_2 (Conv2D)            (None, 30, 30, 32)        896       \n",
            "_________________________________________________________________\n",
            "batch_normalization_2 (Batch (None, 30, 30, 32)        128       \n",
            "_________________________________________________________________\n",
            "activation_2 (Activation)    (None, 30, 30, 32)        0         \n",
            "_________________________________________________________________\n",
            "conv2d_3 (Conv2D)            (None, 28, 28, 32)        9248      \n",
            "_________________________________________________________________\n",
            "batch_normalization_3 (Batch (None, 28, 28, 32)        128       \n",
            "_________________________________________________________________\n",
            "activation_3 (Activation)    (None, 28, 28, 32)        0         \n",
            "=================================================================\n",
            "Total params: 10,400\n",
            "Trainable params: 10,272\n",
            "Non-trainable params: 128\n",
            "_________________________________________________________________\n"
          ],
          "name": "stdout"
        }
      ]
    },
    {
      "cell_type": "code",
      "metadata": {
        "id": "5oDEWqbYfbHw"
      },
      "source": [
        ""
      ],
      "execution_count": null,
      "outputs": []
    }
  ]
}